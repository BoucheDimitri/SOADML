{
 "cells": [
  {
   "cell_type": "code",
   "execution_count": 3,
   "metadata": {
    "collapsed": true
   },
   "outputs": [],
   "source": [
    "import numpy as np\n",
    "import pandas as pd\n",
    "import matplotlib.pyplot as plt\n",
    "import sklearn.metrics as metrics"
   ]
  },
  {
   "cell_type": "markdown",
   "metadata": {},
   "source": [
    "## Toy gaussian data in 2D and basic functions"
   ]
  },
  {
   "cell_type": "code",
   "execution_count": 4,
   "metadata": {
    "collapsed": true
   },
   "outputs": [],
   "source": [
    "def gaussian_data(mus, covmats, n):\n",
    "    g1 = np.random.multivariate_normal(mus[0], covmats[0], int(n / 2))\n",
    "    y1 = np.ones((int(n / 2), 1))\n",
    "    xy1 = np.concatenate((g1, y1), axis=1)\n",
    "    g2 = np.random.multivariate_normal(mus[1], covmats[1], int((n + 1) / 2))\n",
    "    y2 = - np.ones((int((n + 1) / 2), 1))\n",
    "    xy2 = np.concatenate((g2, y2), axis=1)\n",
    "    xy = np.concatenate((xy1, xy2), axis=0)\n",
    "    np.random.shuffle(xy)\n",
    "    return xy                      "
   ]
  },
  {
   "cell_type": "code",
   "execution_count": 5,
   "metadata": {
    "collapsed": true
   },
   "outputs": [],
   "source": [
    "def center_and_reduce(xmat, inplace=True):\n",
    "    d = xmat.shape[0]\n",
    "    n = xmat.shape[1]\n",
    "    xmean = np.mean(xmat, axis=1)\n",
    "    xvar = np.var(xmat, axis=1)\n",
    "    meanmat = np.repeat(xmean.reshape((d,1)), n, axis=1)\n",
    "    varmat = np.repeat(xvar.reshape((d,1)), n, axis=1)\n",
    "    if inplace :\n",
    "        xmat = (1 / varmat) * (xmat - meanmat)\n",
    "    else:\n",
    "        return (1 / varmat) * (xmat - meanmat)"
   ]
  },
  {
   "cell_type": "code",
   "execution_count": 6,
   "metadata": {
    "collapsed": true
   },
   "outputs": [],
   "source": [
    "def data_from_label(xmat, y, label):\n",
    "    indices = np.argwhere(y == label)\n",
    "    return xmat[:, indices[:, 0]]"
   ]
  },
  {
   "cell_type": "code",
   "execution_count": 7,
   "metadata": {
    "collapsed": false
   },
   "outputs": [
    {
     "data": {
      "image/png": "[encoded data removed]",
      "text/plain": [
       "<matplotlib.figure.Figure at 0x17dfe5057f0>"
      ]
     },
     "metadata": {},
     "output_type": "display_data"
    }
   ],
   "source": [
    "# Parameters for gaussian data\n",
    "mus = ([-1, -1], [1, 1])\n",
    "covs = (np.eye(2), np.eye(2))\n",
    "\n",
    "# Create data\n",
    "xy = gaussian_data(mus, covs, 1000)\n",
    "\n",
    "# Separate data and labels\n",
    "xmat = xy[:, :2].T\n",
    "y= xy[:,2].T\n",
    "\n",
    "# Center and reduce\n",
    "center_and_reduce(xmat)\n",
    "\n",
    "# Plot\n",
    "xs_plus1 = data_from_label(xmat, y, 1)\n",
    "xs_minus1 = data_from_label(xmat, y, -1)\n",
    "plt.scatter(xs_plus1[0, :], xs_plus1[1, :], label=\"1\")\n",
    "plt.scatter(xs_minus1[0, :], xs_minus1[1, :], label=\"-1\")\n",
    "plt.legend()\n",
    "plt.show()"
   ]
  },
  {
   "cell_type": "markdown",
   "metadata": {},
   "source": [
    "## Class wrapper for loss functions\n",
    "We create here an almost empty class model for losses functions. The objective is to be able to change loss function easily"
   ]
  },
  {
   "cell_type": "code",
   "execution_count": 442,
   "metadata": {
    "collapsed": true
   },
   "outputs": [],
   "source": [
    "class LossFunc:\n",
    "    \n",
    "    def __init__(self):\n",
    "        self.primal = None\n",
    "        self.dual = None\n",
    "        self.sdca_update = None\n",
    "        self.sgd_update = None\n",
    "    \n",
    "    def set_primal(self, func):\n",
    "        self.primal = func\n",
    "    \n",
    "    def set_dual(self, func):\n",
    "        self.dual = func\n",
    "    \n",
    "    def set_sdca_update(self, func):\n",
    "        self.sdca_update = func\n",
    "    \n",
    "    def set_sgd_update(self, func):\n",
    "        self.sgd_update = func"
   ]
  },
  {
   "cell_type": "markdown",
   "metadata": {},
   "source": [
    "## Definition of Hinge loss using the LossFunc class wrapper\n",
    "We define the hinge loss using the class framework defined above"
   ]
  },
  {
   "cell_type": "code",
   "execution_count": 443,
   "metadata": {
    "collapsed": false
   },
   "outputs": [],
   "source": [
    "def vector_hinge_loss(a, y):\n",
    "    return np.maximum(0, 1 - y * a)\n",
    "\n",
    "def vector_hinge_dual(alpha, y):\n",
    "    prod = alpha * y\n",
    "    prod[prod > 0] = np.inf\n",
    "    prod[prod < -1] = np.inf\n",
    "    return prod\n",
    "\n",
    "def hinge_delta_alpha(w, xi, yi, alphai, lamb):\n",
    "    n = xi.shape[0]\n",
    "    q = lamb * n * (1 - np.dot(xi.T, w) * yi) / np.power(np.linalg.norm(xi), 2)\n",
    "    q += alphai * yi\n",
    "    return yi * max(0, min(1, q)) - alphai\n",
    "    \n",
    "hinge = LossFunc()\n",
    "hinge.set_primal(vector_hinge_loss)\n",
    "hinge.set_dual(vector_hinge_dual)\n",
    "hinge.set_sdca_update(hinge_delta_alpha)"
   ]
  },
  {
   "cell_type": "markdown",
   "metadata": {},
   "source": [
    "## Primal and dual of cumulative regularized loss\n",
    "We define in this section:\n",
    "1. Some intermediaries functions\n",
    "1. The primal dual correspondance function (associating w(alpha) to alpha)\n",
    "1. The primal and dual cumulative loss functions\n",
    "1. The duality gap function"
   ]
  },
  {
   "cell_type": "code",
   "execution_count": 14,
   "metadata": {
    "collapsed": true
   },
   "outputs": [],
   "source": [
    "def xmatT_dot_w(xmat, w):\n",
    "    return np.dot(xmat.T, w)"
   ]
  },
  {
   "cell_type": "code",
   "execution_count": 445,
   "metadata": {
    "collapsed": true
   },
   "outputs": [],
   "source": [
    "def cum_loss(w, xmat, y, lamb, lossfunc=hinge):\n",
    "    a = xmatT_dot_w(xmat, w)\n",
    "    cumloss = np.mean(lossfunc.primal(a, y))\n",
    "    reg = (lamb / 2) * np.power(np.linalg.norm(w), 2)\n",
    "    return cumloss + reg"
   ]
  },
  {
   "cell_type": "code",
   "execution_count": 446,
   "metadata": {
    "collapsed": true
   },
   "outputs": [],
   "source": [
    "def alpha_to_w(alpha, xmat, lamb):\n",
    "    n = xmat.shape[1]\n",
    "    return (1 / (n * lamb)) * np.dot(xmat, alpha)"
   ]
  },
  {
   "cell_type": "code",
   "execution_count": 447,
   "metadata": {
    "collapsed": true
   },
   "outputs": [],
   "source": [
    "def cum_loss_dual(alpha, xmat, y, lamb, lossfunc=hinge):\n",
    "    cumlossdual = np.mean(- lossfunc.dual(- alpha, y))\n",
    "    w = alpha_to_w(alpha, xmat, lamb)\n",
    "    reg = (lamb / 2) * np.power(np.linalg.norm(w), 2)\n",
    "    return cumlossdual + reg"
   ]
  },
  {
   "cell_type": "code",
   "execution_count": 448,
   "metadata": {
    "collapsed": false
   },
   "outputs": [
    {
     "data": {
      "text/plain": [
       "-inf"
      ]
     },
     "execution_count": 448,
     "metadata": {},
     "output_type": "execute_result"
    }
   ],
   "source": [
    "# Test for those few first functions\n",
    "w_test = np.array([1, 1])\n",
    "w_test = w_test.reshape((2, 1))\n",
    "a = w_dot_xmat(w_test, xmat)\n",
    "h = vector_hinge_loss(a, y)\n",
    "cumloss = cum_loss(w_test, xmat, y, 1)\n",
    "n = xmat.shape[1]\n",
    "alpha_test = 0.5 * np.ones((n,))\n",
    "cum_loss_dual(alpha_test, xmat, y, 1)"
   ]
  },
  {
   "cell_type": "code",
   "execution_count": 422,
   "metadata": {
    "collapsed": true
   },
   "outputs": [],
   "source": [
    "def duality_gap(alpha, xmat, y, lamb, lossfunc=hinge):\n",
    "    w = alpha_to_w(alpha, xmat, lamb)\n",
    "    p = cum_loss(w, xmat, y, lamb, lossfunc)\n",
    "    d = cum_loss_dual(alpha, xmat, y, lamb, lossfunc)\n",
    "    return p - d"
   ]
  },
  {
   "cell_type": "markdown",
   "metadata": {},
   "source": [
    "## Modified SGD for initialization"
   ]
  },
  {
   "cell_type": "markdown",
   "metadata": {},
   "source": [
    "We wish to find $\\alpha_t$ that maximizes : \n",
    "$$ - \\phi_t^{\\star}(-\\alpha_t) - \\frac{\\lambda t}{2} ||w^{(t-1)} + (\\lambda t)^{-1} \\alpha_t x_t ||^2$$\n",
    "\n",
    "Developping the previous expression yields : \n",
    "$$ \\alpha_t y_t - \\frac{\\lambda t}{2} ( ||w^{(t-1)}||^2 + 2 \\frac{\\alpha_t}{\\lambda t} \\langle w^{(t-1)}, x_t \\rangle + \\frac{\\alpha_t^2}{\\lambda^2 t^2}||x_t||^2 )$$\n",
    "\n",
    "This is a second order polynomial in $\\alpha_t$. With a negative coefficient on the second order term. Thus this is concave. Setting the derivative w.r.t $\\alpha_t$ yields : \n",
    "\n",
    "$$ y_t - \\langle w^{(t-1)}, x_t \\rangle - \\frac{\\alpha_t^2}{2 \\lambda t} = 0$$\n",
    "\n",
    "\n",
    "This gives us an optimal $\\alpha_t$ which is given by : \n",
    "$$ \\alpha_t= \\frac{\\lambda t}{||x_t||^2} (y_t - x_t^T w^{(t-1)})$$"
   ]
  },
  {
   "cell_type": "code",
   "execution_count": 423,
   "metadata": {
    "collapsed": true
   },
   "outputs": [],
   "source": [
    "def hinge_sgd_update(w, xt, yt, lamb, t):\n",
    "    wdotx = np.dot(xt.T, w)\n",
    "    xsqrnorm = np.power(np.linalg.norm(xt), 2)\n",
    "    return ((lamb * t) / xsqrnorm) * (yt - wdotx)\n",
    "\n",
    "hinge.set_sgd_update(hinge_sgd_update)"
   ]
  },
  {
   "cell_type": "code",
   "execution_count": 424,
   "metadata": {
    "collapsed": false
   },
   "outputs": [],
   "source": [
    "def modified_sgd(xmat, y, lamb, lossfunc=hinge):\n",
    "    d = xmat.shape[0]\n",
    "    n = xmat.shape[1]\n",
    "    alpha = np.zeros((n, ))\n",
    "    w = np.zeros((d, ))\n",
    "    for t in range(0, n):\n",
    "        alpha[t] = lossfunc.sgd_update(w, xmat[:, t], y[t], lamb, t)\n",
    "        w = alpha_to_w(alpha[:t + 1], xmat[:, :t + 1], lamb)\n",
    "    return alpha, w       "
   ]
  },
  {
   "cell_type": "markdown",
   "metadata": {
    "collapsed": true
   },
   "source": [
    "## SDCA Perm"
   ]
  },
  {
   "cell_type": "code",
   "execution_count": null,
   "metadata": {
    "collapsed": true
   },
   "outputs": [],
   "source": [
    "def sdca_perm_epoch(w, alpha, xmat, y, lamb, lossfunc=hinge):\n",
    "    n = xmat.shape[1]\n",
    "    inds = np.array(range(0, n))\n",
    "    np.random.shuffle(inds)\n",
    "    for j in range(0, n):\n",
    "        print(i)\n",
    "        i = inds[j]\n",
    "        delta = lossfunc.sdca_update(w, xmat[:, i], y[i], alpha[i], lamb)\n",
    "        alpha[i] += delta\n",
    "        w += (1 / (lamb * n)) * delta * xmat[:, i]"
   ]
  },
  {
   "cell_type": "code",
   "execution_count": 526,
   "metadata": {
    "collapsed": false
   },
   "outputs": [],
   "source": [
    "def sdca_perm(alpha0, xmat, y, lamb, nmax_epochs, epsilon, lossfunc=hinge):\n",
    "    n = xmat.shape[1]\n",
    "    alpha = alpha0.copy()\n",
    "    w = alpha_to_w(alpha0, xmat, lamb)\n",
    "    loss_track = []\n",
    "    loss_track.append(cum_loss(w, xmat, y, lamb, lossfunc))\n",
    "    gaps_track = []\n",
    "    gap = np.inf\n",
    "    k = 0\n",
    "    # while (gap > epsilon) and (k < nmax_epochs) :\n",
    "    while k < nmax_epochs :\n",
    "        sdca_perm_epoch(w, alpha, xmat, y, lamb, lossfunc)\n",
    "        k += 1\n",
    "        loss_track.append(cum_loss(w, xmat, y, lamb, lossfunc))\n",
    "        gaps_track.append(duality_gap(alpha, xmat, y, lamb, lossfunc))\n",
    "        print(k)\n",
    "    return w, alpha, loss_track, gaps_track"
   ]
  },
  {
   "cell_type": "markdown",
   "metadata": {},
   "source": [
    "## Pegasos subgradient algorithm"
   ]
  },
  {
   "cell_type": "code",
   "execution_count": 25,
   "metadata": {
    "collapsed": true
   },
   "outputs": [],
   "source": [
    "def hinge_loss_update(w, xmat, y, eta, lamb, batch_indexes):\n",
    "    k = batch_indexes.shape[0]\n",
    "    restricted_xmat = xmat[:, batch_indexes]\n",
    "    restricted_y = y[batch_indexes]\n",
    "    dot = xmatT_dot_w(restricted_xmat, w)\n",
    "    indic = (restricted_y * dot < 1).astype(np.int64)\n",
    "    summed_vec = np.dot(restricted_xmat, restricted_y * indic)\n",
    "    w = (1 - eta * lamb) *  w + (eta / k) * summed_vec\n",
    "    return w"
   ]
  },
  {
   "cell_type": "code",
   "execution_count": 26,
   "metadata": {
    "collapsed": false,
    "scrolled": true
   },
   "outputs": [],
   "source": [
    "n = xmat.shape[1]\n",
    "d = xmat.shape[0]\n",
    "k = 100\n",
    "batches_ind = np.random.randint(0, n, k)\n",
    "w = np.zeros((d, ))\n",
    "w = hinge_loss_update(w, xmat, y, 0.01, 0.01, batches_ind)"
   ]
  },
  {
   "cell_type": "code",
   "execution_count": 27,
   "metadata": {
    "collapsed": false
   },
   "outputs": [
    {
     "data": {
      "text/plain": [
       "array([-0.0078204 , -0.00902327])"
      ]
     },
     "execution_count": 27,
     "metadata": {},
     "output_type": "execute_result"
    }
   ],
   "source": [
    "w"
   ]
  },
  {
   "cell_type": "code",
   "execution_count": 2,
   "metadata": {
    "collapsed": false
   },
   "outputs": [
    {
     "ename": "SyntaxError",
     "evalue": "invalid syntax (<ipython-input-2-04b42a4be19c>, line 1)",
     "output_type": "error",
     "traceback": [
      "\u001b[1;36m  File \u001b[1;32m\"<ipython-input-2-04b42a4be19c>\"\u001b[1;36m, line \u001b[1;32m1\u001b[0m\n\u001b[1;33m    def minibatch_iteration(w, k, lamb, t, )\u001b[0m\n\u001b[1;37m                                            ^\u001b[0m\n\u001b[1;31mSyntaxError\u001b[0m\u001b[1;31m:\u001b[0m invalid syntax\n"
     ]
    }
   ],
   "source": [
    "def minibatch_iteration(w, k, lamb, t, )"
   ]
  },
  {
   "cell_type": "markdown",
   "metadata": {},
   "source": [
    "## Deduction of a classifier"
   ]
  },
  {
   "cell_type": "code",
   "execution_count": 548,
   "metadata": {
    "collapsed": true
   },
   "outputs": [],
   "source": [
    "def classify(wstar, xmat_test):\n",
    "    prod = np.dot(xmat_test.T, wstar)\n",
    "    prod[prod >= 0] = 1\n",
    "    prod[prod < 0] = -1\n",
    "    return prod"
   ]
  },
  {
   "cell_type": "markdown",
   "metadata": {},
   "source": [
    "## Test on toy gaussian 2D data"
   ]
  },
  {
   "cell_type": "code",
   "execution_count": 449,
   "metadata": {
    "collapsed": false
   },
   "outputs": [],
   "source": [
    "# First epoch using SGD\n",
    "alpha0, w0 = modified_sgd(xmat_cr, y_cr, 1)\n",
    "# SDCA epochs\n",
    "wstar, alphastar, losses, gaps = sdca_perm(alpha0, xmat, y, 0.1, 100, 0.001)"
   ]
  },
  {
   "cell_type": "code",
   "execution_count": 450,
   "metadata": {
    "collapsed": false
   },
   "outputs": [
    {
     "data": {
      "image/png": "[encoded data removed]",
      "text/plain": [
       "<matplotlib.figure.Figure at 0x2e8f9a0a9e8>"
      ]
     },
     "metadata": {},
     "output_type": "display_data"
    }
   ],
   "source": [
    "plt.semilogy(hist)\n",
    "plt.show()"
   ]
  },
  {
   "cell_type": "code",
   "execution_count": 451,
   "metadata": {
    "collapsed": false
   },
   "outputs": [
    {
     "data": {
      "image/png": "[encoded data removed]",
      "text/plain": [
       "<matplotlib.figure.Figure at 0x2e8f99b5c18>"
      ]
     },
     "metadata": {},
     "output_type": "display_data"
    }
   ],
   "source": [
    "plt.plot(gaps)\n",
    "plt.show()"
   ]
  },
  {
   "cell_type": "code",
   "execution_count": 452,
   "metadata": {
    "collapsed": true
   },
   "outputs": [],
   "source": [
    "def hyperplane(w, xgrid):\n",
    "    return (-w[0] / w[1]) * xgrid"
   ]
  },
  {
   "cell_type": "code",
   "execution_count": 453,
   "metadata": {
    "collapsed": false
   },
   "outputs": [
    {
     "data": {
      "image/png": "[encoded data removed]",
      "text/plain": [
       "<matplotlib.figure.Figure at 0x2e8faca84e0>"
      ]
     },
     "metadata": {},
     "output_type": "display_data"
    }
   ],
   "source": [
    "positive = xy_cr[xy_cr [:, 2] == 1]\n",
    "negative = xy_cr[xy_cr [:, 2] == -1]\n",
    "fig = plt.figure()\n",
    "plt.scatter(positive[:, 0], positive[:, 1])\n",
    "plt.scatter(negative[:, 0], negative[:, 1])\n",
    "ax = fig.axes[0]\n",
    "xlim = ax.get_xlim()\n",
    "xgrid = np.linspace(xlim[0], xlim[1], 1000)\n",
    "sep = (xgrid, hyperplane(wstar, xgrid))\n",
    "ax.plot(sep[0], sep[1], c=\"r\")\n",
    "plt.show()"
   ]
  },
  {
   "cell_type": "markdown",
   "metadata": {},
   "source": [
    "## Test on clothes item classification on the Fashion MNIST database"
   ]
  },
  {
   "cell_type": "code",
   "execution_count": 555,
   "metadata": {
    "collapsed": false
   },
   "outputs": [],
   "source": [
    "# Load fashion MNIST from computer\n",
    "path = \"C://Users//Dimitri//Desktop//ENSAE3A//SOADML//FashionMNIST//\"\n",
    "train_pd = pd.read_csv(path + \"fashion-mnist_train.csv\")\n",
    "test_pd = pd.read_csv(path + \"fashion-mnist_test.csv\")"
   ]
  },
  {
   "cell_type": "code",
   "execution_count": 556,
   "metadata": {
    "collapsed": false
   },
   "outputs": [],
   "source": [
    "# Selection on 0 (t shirts) and 1 (trousers) labels\n",
    "train_pd = train_pd[train_pd.label <= 1]\n",
    "train_pd[\"label\"] = train_pd[\"label\"].replace(0, -1)\n",
    "test_pd = test_pd[test_pd.label <= 1]\n",
    "test_pd[\"label\"] = test_pd[\"label\"].replace(0, -1)"
   ]
  },
  {
   "cell_type": "code",
   "execution_count": 557,
   "metadata": {
    "collapsed": true
   },
   "outputs": [],
   "source": [
    "# Store data in numpy matrixes\n",
    "train_np = train_pd.as_matrix()\n",
    "ytrain = train_np[:, 0]\n",
    "xtrain = train_np[:, 1:].T\n",
    "test_np = test_pd.as_matrix()\n",
    "ytest = test_np[:, 0]\n",
    "xtest = test_np[:, 1:].T"
   ]
  },
  {
   "cell_type": "code",
   "execution_count": 538,
   "metadata": {
    "collapsed": false
   },
   "outputs": [],
   "source": [
    "# Center and reduce the data\n",
    "center_and_reduce(xtrain)"
   ]
  },
  {
   "cell_type": "code",
   "execution_count": 539,
   "metadata": {
    "collapsed": false
   },
   "outputs": [
    {
     "data": {
      "image/png": "[encoded data removed]",
      "text/plain": [
       "<matplotlib.figure.Figure at 0x2e882258860>"
      ]
     },
     "metadata": {},
     "output_type": "display_data"
    }
   ],
   "source": [
    "# Draw of few example of tshirts\n",
    "example_tshirt1 = xtrain[:, 7].reshape((28, 28))\n",
    "example_tshirt2 = xtrain[:, 8].reshape((28, 28))\n",
    "example_tshirt3 = xtrain[:, 3].reshape((28, 28))\n",
    "example_tshirt4 = xtrain[:, 17].reshape((28, 28))\n",
    "fig, axes = plt.subplots(1, 4)\n",
    "axes[0].imshow(example_tshirt1, cmap=\"gray\")\n",
    "axes[1].imshow(example_tshirt2, cmap=\"gray\")\n",
    "axes[2].imshow(example_tshirt3, cmap=\"gray\")\n",
    "axes[3].imshow(example_tshirt4, cmap=\"gray\")\n",
    "plt.show()"
   ]
  },
  {
   "cell_type": "code",
   "execution_count": 540,
   "metadata": {
    "collapsed": false
   },
   "outputs": [
    {
     "data": {
      "image/png": "[encoded data removed]",
      "text/plain": [
       "<matplotlib.figure.Figure at 0x2e882fcbfd0>"
      ]
     },
     "metadata": {},
     "output_type": "display_data"
    }
   ],
   "source": [
    "# Draw a few examples of trousers\n",
    "example_trousers1 = xtrain[:, 4].reshape((28, 28))\n",
    "example_trousers2 = xtrain[:, 9].reshape((28, 28))\n",
    "example_trousers3 = xtrain[:, 11].reshape((28, 28))\n",
    "example_trousers4 = xtrain[:, 22].reshape((28, 28))\n",
    "fig, axes = plt.subplots(1, 4)\n",
    "axes[0].imshow(example_trousers1, cmap=\"gray\")\n",
    "axes[1].imshow(example_trousers2, cmap=\"gray\")\n",
    "axes[2].imshow(example_trousers3, cmap=\"gray\")\n",
    "axes[3].imshow(example_trousers4, cmap=\"gray\")\n",
    "plt.show()"
   ]
  },
  {
   "cell_type": "code",
   "execution_count": 518,
   "metadata": {
    "collapsed": false
   },
   "outputs": [
    {
     "ename": "ValueError",
     "evalue": "shapes (2,1000) and (12000,) not aligned: 1000 (dim 1) != 12000 (dim 0)",
     "output_type": "error",
     "traceback": [
      "\u001b[1;31m---------------------------------------------------------------------------\u001b[0m",
      "\u001b[1;31mValueError\u001b[0m                                Traceback (most recent call last)",
      "\u001b[1;32m<ipython-input-518-8b9d893e6e75>\u001b[0m in \u001b[0;36m<module>\u001b[1;34m()\u001b[0m\n\u001b[0;32m      2\u001b[0m \u001b[0malpha0\u001b[0m\u001b[1;33m,\u001b[0m \u001b[0mw0\u001b[0m \u001b[1;33m=\u001b[0m \u001b[0mmodified_sgd\u001b[0m\u001b[1;33m(\u001b[0m\u001b[0mxtrain\u001b[0m\u001b[1;33m,\u001b[0m \u001b[0mytrain\u001b[0m\u001b[1;33m,\u001b[0m \u001b[1;36m0.01\u001b[0m\u001b[1;33m)\u001b[0m\u001b[1;33m\u001b[0m\u001b[0m\n\u001b[0;32m      3\u001b[0m \u001b[1;31m# SDCA epochs\u001b[0m\u001b[1;33m\u001b[0m\u001b[1;33m\u001b[0m\u001b[0m\n\u001b[1;32m----> 4\u001b[1;33m \u001b[0mwstar\u001b[0m\u001b[1;33m,\u001b[0m \u001b[0malphastar\u001b[0m\u001b[1;33m,\u001b[0m \u001b[0mlosses\u001b[0m\u001b[1;33m,\u001b[0m \u001b[0mgaps\u001b[0m \u001b[1;33m=\u001b[0m \u001b[0msdca_perm\u001b[0m\u001b[1;33m(\u001b[0m\u001b[0malpha0\u001b[0m\u001b[1;33m,\u001b[0m \u001b[0mxmat\u001b[0m\u001b[1;33m,\u001b[0m \u001b[0my\u001b[0m\u001b[1;33m,\u001b[0m \u001b[1;36m0.01\u001b[0m\u001b[1;33m,\u001b[0m \u001b[1;36m100\u001b[0m\u001b[1;33m,\u001b[0m \u001b[1;36m0.001\u001b[0m\u001b[1;33m)\u001b[0m\u001b[1;33m\u001b[0m\u001b[0m\n\u001b[0m",
      "\u001b[1;32m<ipython-input-516-b05a25197222>\u001b[0m in \u001b[0;36msdca_perm\u001b[1;34m(alpha0, xmat, y, lamb, nmax_epochs, epsilon, lossfunc)\u001b[0m\n\u001b[0;32m      2\u001b[0m     \u001b[0mn\u001b[0m \u001b[1;33m=\u001b[0m \u001b[0mxmat\u001b[0m\u001b[1;33m.\u001b[0m\u001b[0mshape\u001b[0m\u001b[1;33m[\u001b[0m\u001b[1;36m1\u001b[0m\u001b[1;33m]\u001b[0m\u001b[1;33m\u001b[0m\u001b[0m\n\u001b[0;32m      3\u001b[0m     \u001b[0malpha\u001b[0m \u001b[1;33m=\u001b[0m \u001b[0malpha0\u001b[0m\u001b[1;33m.\u001b[0m\u001b[0mcopy\u001b[0m\u001b[1;33m(\u001b[0m\u001b[1;33m)\u001b[0m\u001b[1;33m\u001b[0m\u001b[0m\n\u001b[1;32m----> 4\u001b[1;33m     \u001b[0mw\u001b[0m \u001b[1;33m=\u001b[0m \u001b[0malpha_to_w\u001b[0m\u001b[1;33m(\u001b[0m\u001b[0malpha0\u001b[0m\u001b[1;33m,\u001b[0m \u001b[0mxmat\u001b[0m\u001b[1;33m,\u001b[0m \u001b[0mlamb\u001b[0m\u001b[1;33m)\u001b[0m\u001b[1;33m\u001b[0m\u001b[0m\n\u001b[0m\u001b[0;32m      5\u001b[0m     \u001b[0mloss_track\u001b[0m \u001b[1;33m=\u001b[0m \u001b[1;33m[\u001b[0m\u001b[1;33m]\u001b[0m\u001b[1;33m\u001b[0m\u001b[0m\n\u001b[0;32m      6\u001b[0m     \u001b[0mloss_track\u001b[0m\u001b[1;33m.\u001b[0m\u001b[0mappend\u001b[0m\u001b[1;33m(\u001b[0m\u001b[0mcum_loss\u001b[0m\u001b[1;33m(\u001b[0m\u001b[0mw\u001b[0m\u001b[1;33m,\u001b[0m \u001b[0mxmat\u001b[0m\u001b[1;33m,\u001b[0m \u001b[0my\u001b[0m\u001b[1;33m,\u001b[0m \u001b[0mlamb\u001b[0m\u001b[1;33m,\u001b[0m \u001b[0mlossfunc\u001b[0m\u001b[1;33m)\u001b[0m\u001b[1;33m)\u001b[0m\u001b[1;33m\u001b[0m\u001b[0m\n",
      "\u001b[1;32m<ipython-input-446-6dd76e11497b>\u001b[0m in \u001b[0;36malpha_to_w\u001b[1;34m(alpha, xmat, lamb)\u001b[0m\n\u001b[0;32m      1\u001b[0m \u001b[1;32mdef\u001b[0m \u001b[0malpha_to_w\u001b[0m\u001b[1;33m(\u001b[0m\u001b[0malpha\u001b[0m\u001b[1;33m,\u001b[0m \u001b[0mxmat\u001b[0m\u001b[1;33m,\u001b[0m \u001b[0mlamb\u001b[0m\u001b[1;33m)\u001b[0m\u001b[1;33m:\u001b[0m\u001b[1;33m\u001b[0m\u001b[0m\n\u001b[0;32m      2\u001b[0m     \u001b[0mn\u001b[0m \u001b[1;33m=\u001b[0m \u001b[0mxmat\u001b[0m\u001b[1;33m.\u001b[0m\u001b[0mshape\u001b[0m\u001b[1;33m[\u001b[0m\u001b[1;36m1\u001b[0m\u001b[1;33m]\u001b[0m\u001b[1;33m\u001b[0m\u001b[0m\n\u001b[1;32m----> 3\u001b[1;33m     \u001b[1;32mreturn\u001b[0m \u001b[1;33m(\u001b[0m\u001b[1;36m1\u001b[0m \u001b[1;33m/\u001b[0m \u001b[1;33m(\u001b[0m\u001b[0mn\u001b[0m \u001b[1;33m*\u001b[0m \u001b[0mlamb\u001b[0m\u001b[1;33m)\u001b[0m\u001b[1;33m)\u001b[0m \u001b[1;33m*\u001b[0m \u001b[0mnp\u001b[0m\u001b[1;33m.\u001b[0m\u001b[0mdot\u001b[0m\u001b[1;33m(\u001b[0m\u001b[0mxmat\u001b[0m\u001b[1;33m,\u001b[0m \u001b[0malpha\u001b[0m\u001b[1;33m)\u001b[0m\u001b[1;33m\u001b[0m\u001b[0m\n\u001b[0m",
      "\u001b[1;31mValueError\u001b[0m: shapes (2,1000) and (12000,) not aligned: 1000 (dim 1) != 12000 (dim 0)"
     ]
    }
   ],
   "source": [
    "# First epoch using SGD\n",
    "alpha0, w0 = modified_sgd(xtrain, ytrain, 0.01)"
   ]
  },
  {
   "cell_type": "code",
   "execution_count": 561,
   "metadata": {
    "collapsed": true
   },
   "outputs": [],
   "source": [
    "n = xtrain.shape[1]\n",
    "d = xtrain.shape[0]\n",
    "alpha0 = np.zeros((n, ))\n",
    "wrandom = np.random.normal(0, 1, d)"
   ]
  },
  {
   "cell_type": "code",
   "execution_count": 542,
   "metadata": {
    "collapsed": false
   },
   "outputs": [
    {
     "name": "stdout",
     "output_type": "stream",
     "text": [
      "1\n",
      "2\n",
      "3\n",
      "4\n",
      "5\n",
      "6\n",
      "7\n",
      "8\n",
      "9\n",
      "10\n",
      "11\n",
      "12\n",
      "13\n",
      "14\n",
      "15\n",
      "16\n",
      "17\n",
      "18\n",
      "19\n",
      "20\n",
      "21\n",
      "22\n",
      "23\n",
      "24\n",
      "25\n",
      "26\n",
      "27\n",
      "28\n",
      "29\n",
      "30\n",
      "31\n",
      "32\n",
      "33\n",
      "34\n",
      "35\n",
      "36\n",
      "37\n",
      "38\n",
      "39\n",
      "40\n",
      "41\n",
      "42\n",
      "43\n",
      "44\n",
      "45\n",
      "46\n",
      "47\n",
      "48\n",
      "49\n",
      "50\n"
     ]
    }
   ],
   "source": [
    "# SDCA epochs\n",
    "wstar, alphastar, losses, gaps = sdca_perm(alpha0, xtrain, ytrain, 0.01, 50, 0.0001)"
   ]
  },
  {
   "cell_type": "code",
   "execution_count": 543,
   "metadata": {
    "collapsed": false
   },
   "outputs": [
    {
     "data": {
      "image/png": "[encoded data removed]",
      "text/plain": [
       "<matplotlib.figure.Figure at 0x2e88212d630>"
      ]
     },
     "metadata": {},
     "output_type": "display_data"
    }
   ],
   "source": [
    "plt.plot(losses)\n",
    "plt.show()"
   ]
  },
  {
   "cell_type": "code",
   "execution_count": 544,
   "metadata": {
    "collapsed": false
   },
   "outputs": [
    {
     "data": {
      "image/png": "[encoded data removed]",
      "text/plain": [
       "<matplotlib.figure.Figure at 0x2e8821b35c0>"
      ]
     },
     "metadata": {},
     "output_type": "display_data"
    }
   ],
   "source": [
    "plt.plot(gaps)\n",
    "plt.show()"
   ]
  },
  {
   "cell_type": "code",
   "execution_count": 564,
   "metadata": {
    "collapsed": false
   },
   "outputs": [],
   "source": [
    "ypred = classify(wstar, xtest)"
   ]
  },
  {
   "cell_type": "code",
   "execution_count": 565,
   "metadata": {
    "collapsed": false
   },
   "outputs": [
    {
     "data": {
      "text/plain": [
       "array([-1,  1, -1, ..., -1, -1,  1], dtype=int64)"
      ]
     },
     "execution_count": 565,
     "metadata": {},
     "output_type": "execute_result"
    }
   ],
   "source": [
    "ytest"
   ]
  },
  {
   "cell_type": "code",
   "execution_count": 566,
   "metadata": {
    "collapsed": false
   },
   "outputs": [
    {
     "name": "stdout",
     "output_type": "stream",
     "text": [
      "0.0105\n"
     ]
    }
   ],
   "source": [
    "print(metrics.zero_one_loss(ypred, ytest))"
   ]
  }
 ],
 "metadata": {
  "kernelspec": {
   "display_name": "Python 3",
   "language": "python",
   "name": "python3"
  },
  "language_info": {
   "codemirror_mode": {
    "name": "ipython",
    "version": 3
   },
   "file_extension": ".py",
   "mimetype": "text/x-python",
   "name": "python",
   "nbconvert_exporter": "python",
   "pygments_lexer": "ipython3",
   "version": "3.5.4"
  }
 },
 "nbformat": 4,
 "nbformat_minor": 0
}
