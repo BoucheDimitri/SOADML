{
 "cells": [
  {
   "cell_type": "code",
   "execution_count": 115,
   "metadata": {
    "collapsed": false
   },
   "outputs": [],
   "source": [
    "import numpy as np\n",
    "import pandas as pd\n",
    "import os\n",
    "import time\n",
    "import matplotlib.pyplot as plt\n",
    "import sklearn.metrics as metrics\n",
    "from sklearn import decomposition\n",
    "from sklearn.datasets import fetch_mldata"
   ]
  },
  {
   "cell_type": "markdown",
   "metadata": {},
   "source": [
    "## Toy gaussian data in 2D and basic functions"
   ]
  },
  {
   "cell_type": "code",
   "execution_count": 3,
   "metadata": {
    "collapsed": true
   },
   "outputs": [],
   "source": [
    "def gaussian_data(mus, covmats, n):\n",
    "    g1 = np.random.multivariate_normal(mus[0], covmats[0], int(n / 2))\n",
    "    y1 = np.ones((int(n / 2), 1))\n",
    "    xy1 = np.concatenate((g1, y1), axis=1)\n",
    "    g2 = np.random.multivariate_normal(mus[1], covmats[1], int((n + 1) / 2))\n",
    "    y2 = - np.ones((int((n + 1) / 2), 1))\n",
    "    xy2 = np.concatenate((g2, y2), axis=1)\n",
    "    xy = np.concatenate((xy1, xy2), axis=0)\n",
    "    np.random.shuffle(xy)\n",
    "    return xy                      "
   ]
  },
  {
   "cell_type": "code",
   "execution_count": 4,
   "metadata": {
    "collapsed": true
   },
   "outputs": [],
   "source": [
    "def center_and_reduce(xmat, inplace=True):\n",
    "    d = xmat.shape[0]\n",
    "    n = xmat.shape[1]\n",
    "    xmean = np.mean(xmat, axis=1)\n",
    "    xvar = np.var(xmat, axis=1)\n",
    "    meanmat = np.repeat(xmean.reshape((d,1)), n, axis=1)\n",
    "    varmat = np.repeat(xvar.reshape((d,1)), n, axis=1)\n",
    "    if inplace :\n",
    "        xmat = (1 / varmat) * (xmat - meanmat)\n",
    "    else:\n",
    "        return (1 / varmat) * (xmat - meanmat)"
   ]
  },
  {
   "cell_type": "code",
   "execution_count": 5,
   "metadata": {
    "collapsed": true
   },
   "outputs": [],
   "source": [
    "def data_from_label(xmat, y, label):\n",
    "    indices = np.argwhere(y == label)\n",
    "    return xmat[:, indices[:, 0]]"
   ]
  },
  {
   "cell_type": "code",
   "execution_count": 6,
   "metadata": {
    "collapsed": false
   },
   "outputs": [
    {
     "data": {
      "image/png": "[encoded data removed]",
      "text/plain": [
       "<matplotlib.figure.Figure at 0x2e24ee21f28>"
      ]
     },
     "metadata": {},
     "output_type": "display_data"
    }
   ],
   "source": [
    "# Parameters for gaussian data\n",
    "mus = ([-1, -1], [1, 1])\n",
    "covs = (np.eye(2), np.eye(2))\n",
    "\n",
    "# Create data\n",
    "xy = gaussian_data(mus, covs, 1000)\n",
    "\n",
    "# Separate data and labels\n",
    "xmat = xy[:, :2].T\n",
    "y= xy[:,2].T\n",
    "\n",
    "# Center and reduce\n",
    "center_and_reduce(xmat)\n",
    "\n",
    "# Plot\n",
    "xs_plus1 = data_from_label(xmat, y, 1)\n",
    "xs_minus1 = data_from_label(xmat, y, -1)\n",
    "plt.scatter(xs_plus1[0, :], xs_plus1[1, :], label=\"1\")\n",
    "plt.scatter(xs_minus1[0, :], xs_minus1[1, :], label=\"-1\")\n",
    "plt.legend()\n",
    "plt.show()"
   ]
  },
  {
   "cell_type": "markdown",
   "metadata": {},
   "source": [
    "## Class wrapper for loss functions\n",
    "We create here an almost empty class model for losses functions. The objective is to be able to change loss function easily"
   ]
  },
  {
   "cell_type": "code",
   "execution_count": 7,
   "metadata": {
    "collapsed": true
   },
   "outputs": [],
   "source": [
    "class LossFunc:\n",
    "    \n",
    "    def __init__(self):\n",
    "        self.primal = None\n",
    "        self.dual = None\n",
    "        self.sdca_update = None\n",
    "        self.sgd_update = None\n",
    "        self.pegasos_batch_update = None\n",
    "    \n",
    "    def set_primal(self, func):\n",
    "        self.primal = func\n",
    "    \n",
    "    def set_dual(self, func):\n",
    "        self.dual = func\n",
    "    \n",
    "    def set_sdca_update(self, func):\n",
    "        self.sdca_update = func\n",
    "    \n",
    "    def set_sgd_update(self, func):\n",
    "        self.sgd_update = func\n",
    "    \n",
    "    def set_pegasos_batch_update(self, func):\n",
    "        self.pegasos_batch_update = func"
   ]
  },
  {
   "cell_type": "markdown",
   "metadata": {},
   "source": [
    "## Definition of Hinge loss using the LossFunc class wrapper\n",
    "We define the hinge loss using the class framework defined above"
   ]
  },
  {
   "cell_type": "code",
   "execution_count": 8,
   "metadata": {
    "collapsed": false
   },
   "outputs": [],
   "source": [
    "def vector_hinge_loss(a, y):\n",
    "    return np.maximum(0, 1 - y * a)\n",
    "\n",
    "def vector_hinge_dual(alpha, y):\n",
    "    prod = alpha * y\n",
    "    prod[prod > 0] = np.inf\n",
    "    prod[prod < -1] = np.inf\n",
    "    return prod\n",
    "\n",
    "def hinge_delta_alpha(w, xi, yi, alphai, lamb):\n",
    "    n = xi.shape[0]\n",
    "    q = lamb * n * (1 - np.dot(xi.T, w) * yi) / np.power(np.linalg.norm(xi), 2)\n",
    "    q += alphai * yi\n",
    "    return yi * max(0, min(1, q)) - alphai\n",
    "    \n",
    "hinge = LossFunc()\n",
    "hinge.set_primal(vector_hinge_loss)\n",
    "hinge.set_dual(vector_hinge_dual)\n",
    "hinge.set_sdca_update(hinge_delta_alpha)"
   ]
  },
  {
   "cell_type": "markdown",
   "metadata": {},
   "source": [
    "## Primal and dual of cumulative regularized loss\n",
    "We define in this section:\n",
    "1. Some intermediaries functions\n",
    "1. The primal dual correspondance function (associating w(alpha) to alpha)\n",
    "1. The primal and dual cumulative loss functions\n",
    "1. The duality gap function"
   ]
  },
  {
   "cell_type": "code",
   "execution_count": 9,
   "metadata": {
    "collapsed": true
   },
   "outputs": [],
   "source": [
    "def xmatT_dot_w(xmat, w):\n",
    "    return np.dot(xmat.T, w)"
   ]
  },
  {
   "cell_type": "code",
   "execution_count": 10,
   "metadata": {
    "collapsed": true
   },
   "outputs": [],
   "source": [
    "def cum_loss(w, xmat, y, lamb, lossfunc=hinge):\n",
    "    a = xmatT_dot_w(xmat, w)\n",
    "    cumloss = np.mean(lossfunc.primal(a, y))\n",
    "    reg = (lamb / 2) * np.power(np.linalg.norm(w), 2)\n",
    "    return cumloss + reg"
   ]
  },
  {
   "cell_type": "code",
   "execution_count": 11,
   "metadata": {
    "collapsed": true
   },
   "outputs": [],
   "source": [
    "def alpha_to_w(alpha, xmat, lamb):\n",
    "    n = xmat.shape[1]\n",
    "    return (1 / (n * lamb)) * np.dot(xmat, alpha)"
   ]
  },
  {
   "cell_type": "code",
   "execution_count": 12,
   "metadata": {
    "collapsed": true
   },
   "outputs": [],
   "source": [
    "def cum_loss_dual(alpha, xmat, y, lamb, lossfunc=hinge):\n",
    "    cumlossdual = np.mean(- lossfunc.dual(- alpha, y))\n",
    "    w = alpha_to_w(alpha, xmat, lamb)\n",
    "    reg = (lamb / 2) * np.power(np.linalg.norm(w), 2)\n",
    "    return cumlossdual - reg"
   ]
  },
  {
   "cell_type": "code",
   "execution_count": 13,
   "metadata": {
    "collapsed": false
   },
   "outputs": [
    {
     "data": {
      "text/plain": [
       "-inf"
      ]
     },
     "execution_count": 13,
     "metadata": {},
     "output_type": "execute_result"
    }
   ],
   "source": [
    "# Test for those few first functions\n",
    "w_test = np.array([1, 1])\n",
    "w_test = w_test.reshape((2, 1))\n",
    "a = xmatT_dot_w(w_test, xmat)\n",
    "h = vector_hinge_loss(a, y)\n",
    "cumloss = cum_loss(w_test, xmat, y, 1)\n",
    "n = xmat.shape[1]\n",
    "alpha_test = 0.5 * np.ones((n,))\n",
    "cum_loss_dual(alpha_test, xmat, y, 1)"
   ]
  },
  {
   "cell_type": "code",
   "execution_count": 14,
   "metadata": {
    "collapsed": true
   },
   "outputs": [],
   "source": [
    "def duality_gap(alpha, xmat, y, lamb, lossfunc=hinge):\n",
    "    w = alpha_to_w(alpha, xmat, lamb)\n",
    "    p = cum_loss(w, xmat, y, lamb, lossfunc)\n",
    "    d = cum_loss_dual(alpha, xmat, y, lamb, lossfunc)\n",
    "    return p - d"
   ]
  },
  {
   "cell_type": "markdown",
   "metadata": {},
   "source": [
    "## Modified SGD for initialization"
   ]
  },
  {
   "cell_type": "markdown",
   "metadata": {},
   "source": [
    "We wish to find $\\alpha_t$ that maximizes : \n",
    "$$ - \\phi_t^{\\star}(-\\alpha_t) - \\frac{\\lambda t}{2} ||w^{(t-1)} + (\\lambda t)^{-1} \\alpha_t x_t ||^2$$\n",
    "\n",
    "Developping the previous expression yields : \n",
    "$$ \\alpha_t y_t - \\frac{\\lambda t}{2} ( ||w^{(t-1)}||^2 + 2 \\frac{\\alpha_t}{\\lambda t} \\langle w^{(t-1)}, x_t \\rangle + \\frac{\\alpha_t^2}{\\lambda^2 t^2}||x_t||^2 )$$\n",
    "\n",
    "This is a second order polynomial in $\\alpha_t$. With a negative coefficient on the second order term. Thus this is concave. Setting the derivative w.r.t $\\alpha_t$ yields : \n",
    "\n",
    "$$ y_t - \\langle w^{(t-1)}, x_t \\rangle - \\frac{\\alpha_t^2}{2 \\lambda t} = 0$$\n",
    "\n",
    "\n",
    "This gives us an optimal $\\alpha_t$ which is given by : \n",
    "$$ \\alpha_t= \\frac{\\lambda t}{||x_t||^2} (y_t - x_t^T w^{(t-1)})$$"
   ]
  },
  {
   "cell_type": "code",
   "execution_count": 15,
   "metadata": {
    "collapsed": true
   },
   "outputs": [],
   "source": [
    "def hinge_sgd_update(w, xt, yt, lamb, t):\n",
    "    wdotx = np.dot(xt.T, w)\n",
    "    xsqrnorm = np.power(np.linalg.norm(xt), 2)\n",
    "    return ((lamb * t) / xsqrnorm) * (yt - wdotx)\n",
    "\n",
    "hinge.set_sgd_update(hinge_sgd_update)"
   ]
  },
  {
   "cell_type": "code",
   "execution_count": 16,
   "metadata": {
    "collapsed": false
   },
   "outputs": [],
   "source": [
    "def modified_sgd(xmat, y, lamb, lossfunc=hinge):\n",
    "    d = xmat.shape[0]\n",
    "    n = xmat.shape[1]\n",
    "    alpha = np.zeros((n, ))\n",
    "    w = np.zeros((d, ))\n",
    "    for t in range(0, n):\n",
    "        alpha[t] = lossfunc.sgd_update(w, xmat[:, t], y[t], lamb, t)\n",
    "        w = alpha_to_w(alpha[:t + 1], xmat[:, :t + 1], lamb)\n",
    "    return alpha, w       "
   ]
  },
  {
   "cell_type": "markdown",
   "metadata": {
    "collapsed": true
   },
   "source": [
    "## SDCA Perm"
   ]
  },
  {
   "cell_type": "code",
   "execution_count": 178,
   "metadata": {
    "collapsed": true
   },
   "outputs": [],
   "source": [
    "def sdca_perm_epoch(w, alpha, xmat, y, lamb, lossfunc=hinge):\n",
    "    n = xmat.shape[1]\n",
    "    inds = np.array(range(0, n))\n",
    "    np.random.shuffle(inds)\n",
    "    for j in range(0, n):\n",
    "        i = inds[j]\n",
    "        delta = lossfunc.sdca_update(w, xmat[:, i], y[i], alpha[i], lamb)\n",
    "        alpha[i] += delta\n",
    "        w += (1 / (lamb * n)) * delta * xmat[:, i]"
   ]
  },
  {
   "cell_type": "code",
   "execution_count": 179,
   "metadata": {
    "collapsed": false
   },
   "outputs": [],
   "source": [
    "def sdca_perm(alpha0, xmat, y, lamb, nepochs, epsilon, lossfunc=hinge, sgd_first=True):\n",
    "    n = xmat.shape[1]\n",
    "    alpha = alpha0.copy()\n",
    "    loss_track = []\n",
    "    w = alpha_to_w(alpha0, xmat, lamb)\n",
    "    loss_track.append(cum_loss(w, xmat, y, lamb, lossfunc))\n",
    "    k = 0\n",
    "    perfs = [0]\n",
    "    if sgd_first :\n",
    "        start = time.perf_counter()\n",
    "        alpha0, w = modified_sgd(xmat, y, 1)\n",
    "        end = time.perf_counter()\n",
    "        perfs.append(end - start)\n",
    "        k += 1\n",
    "        loss_track.append(cum_loss(w, xmat, y, lamb, lossfunc))\n",
    "    # gaps_track = []\n",
    "    # gap = np.inf\n",
    "    # while (gap > epsilon) and (k < nmax_epochs) :\n",
    "    while k < nepochs :\n",
    "        start = time.perf_counter()\n",
    "        sdca_perm_epoch(w, alpha, xmat, y, lamb, lossfunc)\n",
    "        end = time.perf_counter()\n",
    "        perfs.append(end - start)\n",
    "        k += 1\n",
    "        loss_track.append(cum_loss(w, xmat, y, lamb, lossfunc))\n",
    "        # gaps_track.append(duality_gap(alpha, xmat, y, lamb, lossfunc))\n",
    "    return w, alpha, loss_track, perfs#, gaps_track"
   ]
  },
  {
   "cell_type": "markdown",
   "metadata": {},
   "source": [
    "## Pegasos algorithm (=stochastic subgradient descent)"
   ]
  },
  {
   "cell_type": "code",
   "execution_count": 180,
   "metadata": {
    "collapsed": true
   },
   "outputs": [],
   "source": [
    "def hinge_loss_update(w, xmat, y, eta, lamb, batch_indexes):\n",
    "    k = batch_indexes.shape[0]\n",
    "    restricted_xmat = xmat[:, batch_indexes]\n",
    "    restricted_y = y[batch_indexes]\n",
    "    dot = xmatT_dot_w(restricted_xmat, w)\n",
    "    indic = (restricted_y * dot < 1).astype(np.int64)\n",
    "    summed_vec = np.dot(restricted_xmat, restricted_y * indic)\n",
    "    w *= (1 - eta * lamb)\n",
    "    w += (eta / k) * summed_vec\n",
    "\n",
    "hinge.set_pegasos_batch_update(hinge_loss_update)"
   ]
  },
  {
   "cell_type": "code",
   "execution_count": 184,
   "metadata": {
    "collapsed": false
   },
   "outputs": [],
   "source": [
    "def pegasos_algorithm(w, xmat, y, lamb, k, nepochs, lossfunc=hinge):\n",
    "    n = xmat.shape[1]\n",
    "    loss_track = []\n",
    "    loss_track.append(cum_loss(w, xmat, y, lamb, lossfunc))\n",
    "    t = 1\n",
    "    perfs = [0]\n",
    "    for epoch in range(0, nepochs) : \n",
    "        start = time.perf_counter()\n",
    "        indexes = np.array(range(0, n))\n",
    "        np.random.shuffle(indexes)\n",
    "        for i in range(0, n // k):\n",
    "            eta = 1 / (lamb * t)\n",
    "            lossfunc.pegasos_batch_update(w, xmat, y, eta, lamb, indexes[i * k : (i + 1) * k])\n",
    "            # loss_track.append(cum_loss(w, xmat, y, lamb, lossfunc))\n",
    "            t += 1\n",
    "        end = time.perf_counter()\n",
    "        perfs.append(end - start)\n",
    "        loss_track.append(cum_loss(w, xmat, y, lamb, lossfunc))\n",
    "    return loss_track, perfs  "
   ]
  },
  {
   "cell_type": "markdown",
   "metadata": {},
   "source": [
    "## Deduction of a classifier and adaptation to multiclass problems"
   ]
  },
  {
   "cell_type": "code",
   "execution_count": 21,
   "metadata": {
    "collapsed": true
   },
   "outputs": [],
   "source": [
    "def classify(wstar, xmat_test):\n",
    "    prod = np.dot(xmat_test.T, wstar)\n",
    "    prod[prod >= 0] = 1\n",
    "    prod[prod < 0] = -1\n",
    "    return prod"
   ]
  },
  {
   "cell_type": "code",
   "execution_count": 141,
   "metadata": {
    "collapsed": true
   },
   "outputs": [],
   "source": [
    "def one_one_splitting(xmat, y):\n",
    "    classes = np.unique(y)\n",
    "    nclasses = classes.shape[0]\n",
    "    problems = {}\n",
    "    indexes = []\n",
    "    for i in range(0, nclasses):\n",
    "        indexes.append(np.argwhere(y == classes[i])[:, 0])\n",
    "    for i in range(0, nclasses):\n",
    "        for j in range(i + 1, nclasses):\n",
    "            subindexes = np.concatenate((indexes[i], indexes[j]))\n",
    "            problems[(i, j)] = (xmat[:, subindexes], y[subindexes])\n",
    "    return problems"
   ]
  },
  {
   "cell_type": "code",
   "execution_count": null,
   "metadata": {
    "collapsed": true
   },
   "outputs": [],
   "source": [
    "def multiclass_pegasos_svm(problems, ws, lamb, k, nepochs):\n",
    "    for key in problems.keys():\n",
    "        \n",
    "    \n",
    "    "
   ]
  },
  {
   "cell_type": "code",
   "execution_count": 140,
   "metadata": {
    "collapsed": true
   },
   "outputs": [],
   "source": [
    "def pegasos_multiclass_svm(ws, xmat, y, lamb, batchsize, nepochs, hinge):\n",
    "    classes = np.unique(y)\n",
    "    nclasses = classes.shape[0]\n",
    "    problems = []\n",
    "    for i in range(0, nclasses):\n",
    "        for j in range(i + 1, nclasses):\n",
    "            \n",
    "            problems.append(())"
   ]
  },
  {
   "cell_type": "markdown",
   "metadata": {},
   "source": [
    "## Hyperplane plotting function"
   ]
  },
  {
   "cell_type": "code",
   "execution_count": 22,
   "metadata": {
    "collapsed": true
   },
   "outputs": [],
   "source": [
    "def hyperplane(w, xgrid):\n",
    "    return (-w[0] / w[1]) * xgrid"
   ]
  },
  {
   "cell_type": "markdown",
   "metadata": {},
   "source": [
    "## Test on toy gaussian 2D data"
   ]
  },
  {
   "cell_type": "markdown",
   "metadata": {},
   "source": [
    "### SDCA vs Pegasos"
   ]
  },
  {
   "cell_type": "code",
   "execution_count": 188,
   "metadata": {
    "collapsed": false
   },
   "outputs": [],
   "source": [
    "lamb = 0.1\n",
    "d = xmat.shape[0]\n",
    "n = xmat.shape[1]\n",
    "alpha0 = np.zeros((n, ))\n",
    "w_pegasos = np.zeros((d, ))\n",
    "\n",
    "# First epoch using SGD\n",
    "# alpha0, w0 = modified_sgd(xmat, y, 1)\n",
    "\n",
    "# SDCA epochs\n",
    "w_sdca, alpha_sdca, losses_sdca, perfs_sdca = sdca_perm(alpha0, xmat, y, lamb, 10, 0.001)\n",
    "\n",
    "# Pegasos\n",
    "losses_pegasos, perfs_pegasos = pegasos_algorithm(w_pegasos, xmat, y, lamb, 1, 100, lossfunc=hinge)"
   ]
  },
  {
   "cell_type": "code",
   "execution_count": 189,
   "metadata": {
    "collapsed": false
   },
   "outputs": [
    {
     "data": {
      "image/png": "[encoded data removed]",
      "text/plain": [
       "<matplotlib.figure.Figure at 0x2e201777390>"
      ]
     },
     "metadata": {},
     "output_type": "display_data"
    }
   ],
   "source": [
    "plt.semilogy(losses_sdca, perfs_sdca, label=\"SDCA\")\n",
    "plt.semilogy(losses_pegasos, perfs_pegasos, label=\"Pegasos\")\n",
    "plt.ylabel(\"Log loss\")\n",
    "plt.xlabel(\"CPU time\")\n",
    "plt.legend()\n",
    "plt.title(\"Evolution of loss - 10 epochs with k=1\")\n",
    "plt.show()"
   ]
  },
  {
   "cell_type": "code",
   "execution_count": 190,
   "metadata": {
    "collapsed": false
   },
   "outputs": [
    {
     "data": {
      "image/png": "[encoded data removed]",
      "text/plain": [
       "<matplotlib.figure.Figure at 0x2e24ee7d2e8>"
      ]
     },
     "metadata": {},
     "output_type": "display_data"
    }
   ],
   "source": [
    "fig, axes = plt.subplots(1, 2)\n",
    "xs_plus1 = data_from_label(xmat, y, 1)\n",
    "xs_minus1 = data_from_label(xmat, y, -1)\n",
    "axes[0].scatter(xs_plus1[0, :], xs_plus1[1, :], label=\"1\")\n",
    "axes[0].scatter(xs_minus1[0, :], xs_minus1[1, :], label=\"-1\")\n",
    "axes[1].scatter(xs_plus1[0, :], xs_plus1[1, :], label=\"1\")\n",
    "axes[1].scatter(xs_minus1[0, :], xs_minus1[1, :], label=\"-1\")\n",
    "xlim0 = axes[0].get_xlim()\n",
    "xlim1 = axes[1].get_xlim()\n",
    "xgrid0 = np.linspace(xlim0[0], xlim0[1], 1000)\n",
    "xgrid1 = np.linspace(xlim1[0], xlim1[1], 1000)\n",
    "sep0 = (xgrid0, hyperplane(w_sdca, xgrid0))\n",
    "sep1 = (xgrid1, hyperplane(w_pegasos, xgrid1))\n",
    "axes[0].plot(sep0[0], sep0[1], c=\"r\")\n",
    "axes[1].plot(sep1[0], sep1[1], c=\"r\")\n",
    "axes[0].set_title(\"SDCA\")\n",
    "axes[1].set_title(\"Pegasos\")\n",
    "plt.show()"
   ]
  },
  {
   "cell_type": "markdown",
   "metadata": {},
   "source": [
    "## Test on clothes item classification on the Fashion MNIST database"
   ]
  },
  {
   "cell_type": "code",
   "execution_count": 146,
   "metadata": {
    "collapsed": false
   },
   "outputs": [],
   "source": [
    "# Load fashion MNIST from computer\n",
    "path = \"C://Users//Dimitri//Desktop//ENSAE3A//SOADML//FashionMNIST//\"\n",
    "train_pd = pd.read_csv(path + \"fashion-mnist_train.csv\")\n",
    "test_pd = pd.read_csv(path + \"fashion-mnist_test.csv\")"
   ]
  },
  {
   "cell_type": "code",
   "execution_count": 155,
   "metadata": {
    "collapsed": false
   },
   "outputs": [],
   "source": [
    "# Selection on 0 (t shirts) and 1 (trousers) labels\n",
    "train_pd = train_pd[train_pd.label <= 1]\n",
    "train_pd[\"label\"] = train_pd[\"label\"].replace(0, -1)\n",
    "test_pd = test_pd[test_pd.label <= 1]\n",
    "test_pd[\"label\"] = test_pd[\"label\"].replace(0, -1)"
   ]
  },
  {
   "cell_type": "code",
   "execution_count": 156,
   "metadata": {
    "collapsed": true
   },
   "outputs": [],
   "source": [
    "# Store data in numpy matrixes\n",
    "train_np = train_pd.as_matrix()\n",
    "ytrain = train_np[:, 0]\n",
    "xtrain = train_np[:, 1:].T\n",
    "test_np = test_pd.as_matrix()\n",
    "ytest = test_np[:, 0]\n",
    "xtest = test_np[:, 1:].T"
   ]
  },
  {
   "cell_type": "code",
   "execution_count": 157,
   "metadata": {
    "collapsed": false
   },
   "outputs": [],
   "source": [
    "# Center and reduce the data\n",
    "center_and_reduce(xtrain)"
   ]
  },
  {
   "cell_type": "code",
   "execution_count": 158,
   "metadata": {
    "collapsed": false
   },
   "outputs": [
    {
     "data": {
      "image/png": "[encoded data removed]",
      "text/plain": [
       "<matplotlib.figure.Figure at 0x2e201754ac8>"
      ]
     },
     "metadata": {},
     "output_type": "display_data"
    }
   ],
   "source": [
    "# Draw of few example of tshirts\n",
    "example_tshirt1 = xtrain[:, 7].reshape((28, 28))\n",
    "example_tshirt2 = xtrain[:, 8].reshape((28, 28))\n",
    "example_tshirt3 = xtrain[:, 3].reshape((28, 28))\n",
    "example_tshirt4 = xtrain[:, 17].reshape((28, 28))\n",
    "fig, axes = plt.subplots(1, 4)\n",
    "axes[0].imshow(example_tshirt1, cmap=\"gray\")\n",
    "axes[1].imshow(example_tshirt2, cmap=\"gray\")\n",
    "axes[2].imshow(example_tshirt3, cmap=\"gray\")\n",
    "axes[3].imshow(example_tshirt4, cmap=\"gray\")\n",
    "plt.show()"
   ]
  },
  {
   "cell_type": "code",
   "execution_count": 159,
   "metadata": {
    "collapsed": false
   },
   "outputs": [
    {
     "data": {
      "image/png": "[encoded data removed]",
      "text/plain": [
       "<matplotlib.figure.Figure at 0x2e206b1b0f0>"
      ]
     },
     "metadata": {},
     "output_type": "display_data"
    }
   ],
   "source": [
    "# Draw a few examples of trousers\n",
    "example_trousers1 = xtrain[:, 4].reshape((28, 28))\n",
    "example_trousers2 = xtrain[:, 9].reshape((28, 28))\n",
    "example_trousers3 = xtrain[:, 11].reshape((28, 28))\n",
    "example_trousers4 = xtrain[:, 22].reshape((28, 28))\n",
    "fig, axes = plt.subplots(1, 4)\n",
    "axes[0].imshow(example_trousers1, cmap=\"gray\")\n",
    "axes[1].imshow(example_trousers2, cmap=\"gray\")\n",
    "axes[2].imshow(example_trousers3, cmap=\"gray\")\n",
    "axes[3].imshow(example_trousers4, cmap=\"gray\")\n",
    "plt.show()"
   ]
  },
  {
   "cell_type": "markdown",
   "metadata": {},
   "source": [
    "## PCA for dimension reduction"
   ]
  },
  {
   "cell_type": "code",
   "execution_count": 161,
   "metadata": {
    "collapsed": true
   },
   "outputs": [],
   "source": [
    "def compute_pca(xmat, ncomps):\n",
    "    pca = decomposition.RandomizedPCA(n_components=ncomps, whiten=True).fit(xmat.T)\n",
    "    return pca"
   ]
  },
  {
   "cell_type": "code",
   "execution_count": 162,
   "metadata": {
    "collapsed": true
   },
   "outputs": [],
   "source": [
    "def pca_dimension_reduction(pca, xmat):\n",
    "    return pca.transform(xmat.T).T"
   ]
  },
  {
   "cell_type": "code",
   "execution_count": 191,
   "metadata": {
    "collapsed": false
   },
   "outputs": [],
   "source": [
    "# Reduce dimension\n",
    "ncomps = 10\n",
    "pca_xtrain = compute_pca(xtrain, ncomps)\n",
    "xtrain_reduced = pca_dimension_reduction(pca_xtrain, xtrain)\n",
    "xtest_reduced = pca_dimension_reduction(pca_xtrain, xtest)\n",
    "components = pca_xtrain.components_.T\n",
    "projected = np.dot(components, xtrain_reduced)"
   ]
  },
  {
   "cell_type": "code",
   "execution_count": 192,
   "metadata": {
    "collapsed": false
   },
   "outputs": [
    {
     "data": {
      "image/png": "[encoded data removed]",
      "text/plain": [
       "<matplotlib.figure.Figure at 0x2e2017b5438>"
      ]
     },
     "metadata": {},
     "output_type": "display_data"
    }
   ],
   "source": [
    "# Draw of few example of tshirts in reduced dimention\n",
    "example_tshirt1 = projected[:, 7].reshape((28, 28))\n",
    "example_tshirt2 = projected[:, 8].reshape((28, 28))\n",
    "example_tshirt3 = projected[:, 3].reshape((28, 28))\n",
    "example_tshirt4 = projected[:, 17].reshape((28, 28))\n",
    "fig, axes = plt.subplots(1, 4)\n",
    "axes[0].imshow(example_tshirt1, cmap=\"gray\")\n",
    "axes[1].imshow(example_tshirt2, cmap=\"gray\")\n",
    "axes[2].imshow(example_tshirt3, cmap=\"gray\")\n",
    "axes[3].imshow(example_tshirt4, cmap=\"gray\")\n",
    "plt.show()"
   ]
  },
  {
   "cell_type": "code",
   "execution_count": 193,
   "metadata": {
    "collapsed": false
   },
   "outputs": [
    {
     "data": {
      "image/png": "[encoded data removed]",
      "text/plain": [
       "<matplotlib.figure.Figure at 0x2e2523d1128>"
      ]
     },
     "metadata": {},
     "output_type": "display_data"
    }
   ],
   "source": [
    "# Draw a few examples of trousers in reduced dimension\n",
    "example_trousers1 = projected[:, 4].reshape((28, 28))\n",
    "example_trousers2 = projected[:, 9].reshape((28, 28))\n",
    "example_trousers3 = projected[:, 11].reshape((28, 28))\n",
    "example_trousers4 = projected[:, 22].reshape((28, 28))\n",
    "fig, axes = plt.subplots(1, 4)\n",
    "axes[0].imshow(example_trousers1, cmap=\"gray\")\n",
    "axes[1].imshow(example_trousers2, cmap=\"gray\")\n",
    "axes[2].imshow(example_trousers3, cmap=\"gray\")\n",
    "axes[3].imshow(example_trousers4, cmap=\"gray\")\n",
    "plt.show()"
   ]
  },
  {
   "cell_type": "code",
   "execution_count": 194,
   "metadata": {
    "collapsed": false
   },
   "outputs": [
    {
     "name": "stdout",
     "output_type": "stream",
     "text": [
      "8.945054874558991\n",
      "5.167625398091332\n"
     ]
    }
   ],
   "source": [
    "lamb = 0.1\n",
    "d = xtrain_reduced.shape[0]\n",
    "n = xtrain_reduced.shape[1]\n",
    "alpha0 = np.zeros((n, ))\n",
    "w_pegasos = np.zeros((d, ))\n",
    "\n",
    "# SDCA epochs\n",
    "sdca_begin = time.perf_counter()\n",
    "w_sdca, alpha_sdca, losses_sdca, perfs_sdca = sdca_perm(alpha0, xtrain_reduced, ytrain, lamb, 20, 0.001)\n",
    "sdca_time = time.perf_counter() - sdca_begin\n",
    "print(sdca_time)\n",
    "\n",
    "# Pegasos\n",
    "pegasos_begin = time.perf_counter()\n",
    "losses_pegasos, perfs_pegasos = pegasos_algorithm(w_pegasos, xtrain_reduced, ytrain, lamb, 1, 20)\n",
    "pegasos_time = time.perf_counter() - pegasos_begin\n",
    "print(pegasos_time)"
   ]
  },
  {
   "cell_type": "code",
   "execution_count": 208,
   "metadata": {
    "collapsed": false
   },
   "outputs": [
    {
     "name": "stdout",
     "output_type": "stream",
     "text": [
      "14.346418153443665\n",
      "7.9986297931100125\n"
     ]
    }
   ],
   "source": [
    "lamb = 0.1\n",
    "d = xtrain.shape[0]\n",
    "n = xtrain.shape[1]\n",
    "alpha0 = np.zeros((n, ))\n",
    "w_pegasos = np.zeros((d, ))\n",
    "\n",
    "# SDCA epochs\n",
    "sdca_begin = time.perf_counter()\n",
    "w_sdca, alpha_sdca, losses_sdca, perfs_sdca = sdca_perm(alpha0, xtrain, ytrain, lamb, 20, 0.001, sgd_first=False)\n",
    "sdca_time = time.perf_counter() - sdca_begin\n",
    "print(sdca_time)\n",
    "\n",
    "# Pegasos\n",
    "pegasos_begin = time.perf_counter()\n",
    "losses_pegasos, perfs_pegasos = pegasos_algorithm(w_pegasos, xtrain, ytrain, lamb, 100, 40)\n",
    "pegasos_time = time.perf_counter() - pegasos_begin\n",
    "print(pegasos_time)"
   ]
  },
  {
   "cell_type": "code",
   "execution_count": 209,
   "metadata": {
    "collapsed": false
   },
   "outputs": [
    {
     "data": {
      "image/png": "[encoded data removed]",
      "text/plain": [
       "<matplotlib.figure.Figure at 0x2e200c25240>"
      ]
     },
     "metadata": {},
     "output_type": "display_data"
    }
   ],
   "source": [
    "plt.semilogy(np.cumsum(perfs_sdca), losses_sdca, label=\"SDCA\")\n",
    "plt.semilogy(np.cumsum(perfs_pegasos), losses_pegasos, label=\"Pegasos\")\n",
    "plt.ylabel(\"Log loss\")\n",
    "plt.xlabel(\"CPU time\")\n",
    "plt.legend()\n",
    "plt.title(\"Evolution of loss - 10 epochs with k=1\")\n",
    "plt.show()"
   ]
  },
  {
   "cell_type": "code",
   "execution_count": 176,
   "metadata": {
    "collapsed": false
   },
   "outputs": [
    {
     "name": "stdout",
     "output_type": "stream",
     "text": [
      "302.33478507979453\n",
      "15.066523886889627\n"
     ]
    }
   ],
   "source": [
    "lamb = 0.1\n",
    "d = xtrain.shape[0]\n",
    "n = xtrain.shape[1]\n",
    "alpha0 = np.zeros((n, ))\n",
    "w_pegasos = np.zeros((d, ))\n",
    "\n",
    "# SDCA epochs\n",
    "sdca_begin = time.perf_counter()\n",
    "w_sdca, alpha_sdca, losses_sdca = sdca_perm(alpha0, xtrain, ytrain, lamb, 20, 0.001)\n",
    "sdca_time = time.perf_counter() - sdca_begin\n",
    "print(sdca_time)\n",
    "\n",
    "# Pegasos\n",
    "pegasos_begin = time.perf_counter()\n",
    "losses_pegasos = pegasos_algorithm(w_pegasos, xtrain, ytrain, lamb, 1, 20)\n",
    "pegasos_time = time.perf_counter() - pegasos_begin\n",
    "print(pegasos_time)"
   ]
  },
  {
   "cell_type": "code",
   "execution_count": 177,
   "metadata": {
    "collapsed": false
   },
   "outputs": [
    {
     "data": {
      "image/png": "[encoded data removed]",
      "text/plain": [
       "<matplotlib.figure.Figure at 0x2e20153be10>"
      ]
     },
     "metadata": {},
     "output_type": "display_data"
    }
   ],
   "source": [
    "plt.semilogy(losses_sdca, label=\"SDCA\")\n",
    "plt.semilogy(losses_pegasos, label=\"Pegasos\")\n",
    "plt.legend()\n",
    "plt.show()"
   ]
  },
  {
   "cell_type": "code",
   "execution_count": 92,
   "metadata": {
    "collapsed": false
   },
   "outputs": [
    {
     "data": {
      "image/png": "[encoded data removed]",
      "text/plain": [
       "<matplotlib.figure.Figure at 0x2e2015b44e0>"
      ]
     },
     "metadata": {},
     "output_type": "display_data"
    }
   ],
   "source": [
    "plt.semilogy(losses_pegasos, label=\"Pegasos\")\n",
    "plt.legend()\n",
    "plt.show()"
   ]
  },
  {
   "cell_type": "code",
   "execution_count": 95,
   "metadata": {
    "collapsed": false
   },
   "outputs": [
    {
     "name": "stdout",
     "output_type": "stream",
     "text": [
      "4.965646466949693\n"
     ]
    }
   ],
   "source": [
    "# Pegasos\n",
    "lamb = 0.1\n",
    "d = xtrain_reduced.shape[0]\n",
    "n = xtrain_reduced.shape[1]\n",
    "alpha0 = np.zeros((n, ))\n",
    "w_pegasos = np.zeros((d, ))\n",
    "pegasos_begin = time.perf_counter()\n",
    "losses_pegasos = pegasos_algorithm(w_pegasos, xtrain_reduced, ytrain, lamb, 100, 1000, lossfunc=hinge)\n",
    "pegasos_time = time.perf_counter() - pegasos_begin\n",
    "print(pegasos_time)"
   ]
  },
  {
   "cell_type": "code",
   "execution_count": 96,
   "metadata": {
    "collapsed": false
   },
   "outputs": [
    {
     "data": {
      "image/png": "[encoded data removed]",
      "text/plain": [
       "<matplotlib.figure.Figure at 0x2e25281ca20>"
      ]
     },
     "metadata": {},
     "output_type": "display_data"
    }
   ],
   "source": [
    "# plt.semilogy(losses_sdca, label=\"SDCA\")\n",
    "plt.semilogy(losses_pegasos, label=\"Pegasos\")\n",
    "plt.legend()\n",
    "plt.show()"
   ]
  },
  {
   "cell_type": "code",
   "execution_count": 561,
   "metadata": {
    "collapsed": true
   },
   "outputs": [],
   "source": [
    "n = xtrain.shape[1]\n",
    "d = xtrain.shape[0]\n",
    "alpha0 = np.zeros((n, ))\n",
    "wrandom = np.random.normal(0, 1, d)"
   ]
  },
  {
   "cell_type": "code",
   "execution_count": 542,
   "metadata": {
    "collapsed": false
   },
   "outputs": [
    {
     "name": "stdout",
     "output_type": "stream",
     "text": [
      "1\n",
      "2\n",
      "3\n",
      "4\n",
      "5\n",
      "6\n",
      "7\n",
      "8\n",
      "9\n",
      "10\n",
      "11\n",
      "12\n",
      "13\n",
      "14\n",
      "15\n",
      "16\n",
      "17\n",
      "18\n",
      "19\n",
      "20\n",
      "21\n",
      "22\n",
      "23\n",
      "24\n",
      "25\n",
      "26\n",
      "27\n",
      "28\n",
      "29\n",
      "30\n",
      "31\n",
      "32\n",
      "33\n",
      "34\n",
      "35\n",
      "36\n",
      "37\n",
      "38\n",
      "39\n",
      "40\n",
      "41\n",
      "42\n",
      "43\n",
      "44\n",
      "45\n",
      "46\n",
      "47\n",
      "48\n",
      "49\n",
      "50\n"
     ]
    }
   ],
   "source": [
    "# SDCA epochs\n",
    "wstar, alphastar, losses, gaps = sdca_perm(alpha0, xtrain, ytrain, 0.01, 50, 0.0001)"
   ]
  },
  {
   "cell_type": "code",
   "execution_count": 543,
   "metadata": {
    "collapsed": false
   },
   "outputs": [
    {
     "data": {
      "image/png": "[encoded data removed]",
      "text/plain": [
       "<matplotlib.figure.Figure at 0x2e88212d630>"
      ]
     },
     "metadata": {},
     "output_type": "display_data"
    }
   ],
   "source": [
    "plt.plot(losses)\n",
    "plt.show()"
   ]
  },
  {
   "cell_type": "code",
   "execution_count": 544,
   "metadata": {
    "collapsed": false
   },
   "outputs": [
    {
     "data": {
      "image/png": "[encoded data removed]",
      "text/plain": [
       "<matplotlib.figure.Figure at 0x2e8821b35c0>"
      ]
     },
     "metadata": {},
     "output_type": "display_data"
    }
   ],
   "source": [
    "plt.plot(gaps)\n",
    "plt.show()"
   ]
  },
  {
   "cell_type": "code",
   "execution_count": 97,
   "metadata": {
    "collapsed": false
   },
   "outputs": [],
   "source": [
    "ypred = classify(w_pegasos, xtest_reduced)"
   ]
  },
  {
   "cell_type": "code",
   "execution_count": 37,
   "metadata": {
    "collapsed": false
   },
   "outputs": [
    {
     "data": {
      "text/plain": [
       "array([-1,  1, -1, ..., -1, -1,  1], dtype=int64)"
      ]
     },
     "execution_count": 37,
     "metadata": {},
     "output_type": "execute_result"
    }
   ],
   "source": [
    "ytest"
   ]
  },
  {
   "cell_type": "code",
   "execution_count": 98,
   "metadata": {
    "collapsed": false
   },
   "outputs": [
    {
     "name": "stdout",
     "output_type": "stream",
     "text": [
      "0.038\n"
     ]
    }
   ],
   "source": [
    "print(metrics.zero_one_loss(ypred, ytest))"
   ]
  },
  {
   "cell_type": "code",
   "execution_count": null,
   "metadata": {
    "collapsed": true
   },
   "outputs": [],
   "source": []
  }
 ],
 "metadata": {
  "kernelspec": {
   "display_name": "Python 3",
   "language": "python",
   "name": "python3"
  },
  "language_info": {
   "codemirror_mode": {
    "name": "ipython",
    "version": 3
   },
   "file_extension": ".py",
   "mimetype": "text/x-python",
   "name": "python",
   "nbconvert_exporter": "python",
   "pygments_lexer": "ipython3",
   "version": "3.5.4"
  }
 },
 "nbformat": 4,
 "nbformat_minor": 0
}
