{
 "cells": [
  {
   "cell_type": "code",
   "execution_count": 335,
   "metadata": {
    "collapsed": true
   },
   "outputs": [],
   "source": [
    "import numpy as np\n",
    "import matplotlib.pyplot as plt"
   ]
  },
  {
   "cell_type": "markdown",
   "metadata": {},
   "source": [
    "## Toy gaussian data in 2D and basic functions"
   ]
  },
  {
   "cell_type": "code",
   "execution_count": 404,
   "metadata": {
    "collapsed": true
   },
   "outputs": [],
   "source": [
    "def gaussian_data(mus, covmats, n):\n",
    "    g1 = np.random.multivariate_normal(mus[0], covmats[0], int(n / 2))\n",
    "    y1 = np.ones((int(n / 2), 1))\n",
    "    xy1 = np.concatenate((g1, y1), axis=1)\n",
    "    g2 = np.random.multivariate_normal(mus[1], covmats[1], int((n + 1) / 2))\n",
    "    y2 = - np.ones((int((n + 1) / 2), 1))\n",
    "    xy2 = np.concatenate((g2, y2), axis=1)\n",
    "    xy = np.concatenate((xy1, xy2), axis=0)\n",
    "    np.random.shuffle(xy)\n",
    "    return xy                      "
   ]
  },
  {
   "cell_type": "code",
   "execution_count": 405,
   "metadata": {
    "collapsed": true
   },
   "outputs": [],
   "source": [
    "def center_and_reduce(xmat, inplace=True):\n",
    "    d = xmat.shape[0]\n",
    "    n = xmat.shape[1]\n",
    "    xmean = np.mean(xmat, axis=1)\n",
    "    xvar = np.var(xmat, axis=1)\n",
    "    meanmat = np.repeat(xmean.reshape((d,1)), n, axis=1)\n",
    "    varmat = np.repeat(xvar.reshape((d,1)), n, axis=1)\n",
    "    if inplace :\n",
    "        xmat = (1 / varmat) * (xmat - meanmat)\n",
    "    else:\n",
    "        return (1 / varmat) * (xmat - meanmat)"
   ]
  },
  {
   "cell_type": "code",
   "execution_count": 406,
   "metadata": {
    "collapsed": true
   },
   "outputs": [],
   "source": [
    "def data_from_label(xmat, y, label):\n",
    "    indices = np.argwhere(y == label)\n",
    "    return xmat[:, indices[:, 0]]"
   ]
  },
  {
   "cell_type": "code",
   "execution_count": 408,
   "metadata": {
    "collapsed": false
   },
   "outputs": [
    {
     "data": {
      "image/png": "[encoded data removed]",
      "text/plain": [
       "<matplotlib.figure.Figure at 0x2e8fadce828>"
      ]
     },
     "metadata": {},
     "output_type": "display_data"
    }
   ],
   "source": [
    "# Parameters for gaussian data\n",
    "mus = ([-1, -1], [1, 1])\n",
    "covs = (np.eye(2), np.eye(2))\n",
    "\n",
    "# Create data\n",
    "xy = gaussian_data(mus, covs, 1000)\n",
    "\n",
    "# Separate data and labels\n",
    "xmat = xy[:, :2].T\n",
    "y= xy[:,2].T\n",
    "\n",
    "# Center and reduce\n",
    "center_and_reduce(xmat)\n",
    "\n",
    "# Plot\n",
    "xs_plus1 = data_from_label(xmat, y, 1)\n",
    "xs_minus1 = data_from_label(xmat, y, -1)\n",
    "plt.scatter(xs_plus1[0, :], xs_plus1[1, :], label=\"1\")\n",
    "plt.scatter(xs_minus1[0, :], xs_minus1[1, :], label=\"-1\")\n",
    "plt.legend()\n",
    "plt.show()"
   ]
  },
  {
   "cell_type": "markdown",
   "metadata": {},
   "source": [
    "## LossFunc class\n",
    "We create here an almost empty class model for losses functions. The objective is to be able to change loss function easily"
   ]
  },
  {
   "cell_type": "code",
   "execution_count": 338,
   "metadata": {
    "collapsed": true
   },
   "outputs": [],
   "source": [
    "class LossFunc:\n",
    "    \n",
    "    def __init__(self):\n",
    "        self.primal = None\n",
    "        self.dual = None\n",
    "        self.sdca_update = None\n",
    "        self.sgd_update = None\n",
    "    \n",
    "    def set_primal(self, func):\n",
    "        self.primal = func\n",
    "    \n",
    "    def set_dual(self, func):\n",
    "        self.dual = func\n",
    "    \n",
    "    def set_sdca_update(self, func):\n",
    "        self.sdca_update = func\n",
    "    \n",
    "    def set_sgd_update(self, func):\n",
    "        self.sgd_update = func"
   ]
  },
  {
   "cell_type": "markdown",
   "metadata": {},
   "source": [
    "We define the hinge loss using the class framework defined above"
   ]
  },
  {
   "cell_type": "code",
   "execution_count": 339,
   "metadata": {
    "collapsed": false
   },
   "outputs": [],
   "source": [
    "def vector_hinge_loss(a, y):\n",
    "    return np.maximum(0, 1 - y * a)\n",
    "\n",
    "def vector_hinge_dual(alpha, y):\n",
    "    prod = alpha * y\n",
    "    prod[prod > 0] = np.inf\n",
    "    prod[prod < -1] = np.inf\n",
    "    return prod\n",
    "\n",
    "def hinge_delta_alpha(w, xi, yi, alphai, lamb):\n",
    "    n = xi.shape[0]\n",
    "    q = lamb * n * (1 - np.dot(xi.T, w) * yi) / np.power(np.linalg.norm(xi), 2)\n",
    "    q += alphai * yi\n",
    "    return yi * max(0, min(1, q)) - alphai\n",
    "    \n",
    "hinge = LossFunc()\n",
    "hinge.set_primal(vector_hinge_loss)\n",
    "hinge.set_dual(vector_hinge_dual)\n",
    "hinge.set_sdca_update(hinge_delta_alpha)"
   ]
  },
  {
   "cell_type": "markdown",
   "metadata": {},
   "source": [
    "## Primal and dual of cumulative regularized loss\n",
    "We define in this section:\n",
    "1. Some intermediaries functions\n",
    "1. The primal dual correspondance function (associating w(alpha) to alpha)\n",
    "1. The primal and dual cumulative loss functions\n",
    "1. The duality gap function"
   ]
  },
  {
   "cell_type": "code",
   "execution_count": 340,
   "metadata": {
    "collapsed": true
   },
   "outputs": [],
   "source": [
    "def xmatT_dot_w(xmat, w):\n",
    "    return np.dot(xmat.T, w)"
   ]
  },
  {
   "cell_type": "code",
   "execution_count": 341,
   "metadata": {
    "collapsed": true
   },
   "outputs": [],
   "source": [
    "def cum_loss(w, xmat, y, lamb, lossfunc=hinge):\n",
    "    a = xmatT_dot_w(xmat, w)\n",
    "    cumloss = np.mean(lossfunc.primal(a, y))\n",
    "    reg = (lamb / 2) * np.power(np.linalg.norm(w), 2)\n",
    "    return cumloss + reg"
   ]
  },
  {
   "cell_type": "code",
   "execution_count": 342,
   "metadata": {
    "collapsed": true
   },
   "outputs": [],
   "source": [
    "def alpha_to_w(alpha, xmat, lamb):\n",
    "    n = xmat.shape[1]\n",
    "    return (1 / (n * lamb)) * np.dot(xmat, alpha)"
   ]
  },
  {
   "cell_type": "code",
   "execution_count": 343,
   "metadata": {
    "collapsed": true
   },
   "outputs": [],
   "source": [
    "def cum_loss_dual(alpha, xmat, y, lamb, lossfunc=hinge):\n",
    "    cumlossdual = np.mean(- lossfunc.dual(- alpha, y))\n",
    "    w = alpha_to_w(alpha, xmat, lamb)\n",
    "    reg = (lamb / 2) * np.power(np.linalg.norm(w), 2)\n",
    "    return cumlossdual + reg"
   ]
  },
  {
   "cell_type": "code",
   "execution_count": 344,
   "metadata": {
    "collapsed": false
   },
   "outputs": [
    {
     "data": {
      "text/plain": [
       "-inf"
      ]
     },
     "execution_count": 344,
     "metadata": {},
     "output_type": "execute_result"
    }
   ],
   "source": [
    "# Test for those few first functions\n",
    "w_test = np.array([1, 1])\n",
    "w_test = w_test.reshape((2, 1))\n",
    "a = w_dot_xmat(w_test, xmat)\n",
    "h = vector_hinge_loss(a, y)\n",
    "cumloss = cum_loss(w_test, xmat, y, 1)\n",
    "n = xmat.shape[1]\n",
    "alpha_test = 0.5 * np.ones((n,))\n",
    "cum_loss_dual(alpha_test, xmat, y, 1)"
   ]
  },
  {
   "cell_type": "code",
   "execution_count": 345,
   "metadata": {
    "collapsed": true
   },
   "outputs": [],
   "source": [
    "def duality_gap(alpha, xmat, y, lamb, lossfunc=hinge):\n",
    "    w = alpha_to_w(alpha, xmat, lamb)\n",
    "    p = cum_loss(w, xmat, y, lamb, lossfunc)\n",
    "    d = cum_loss_dual(alpha, xmat, y, lamb, lossfunc)\n",
    "    return p - d"
   ]
  },
  {
   "cell_type": "markdown",
   "metadata": {},
   "source": [
    "## Modified SGD for initialization"
   ]
  },
  {
   "cell_type": "markdown",
   "metadata": {},
   "source": [
    "We wish to find $\\alpha_t$ that maximizes : \n",
    "$$ - \\phi_t^{\\star}(-\\alpha_t) - \\frac{\\lambda t}{2} ||w^{(t-1)} + (\\lambda t)^{-1} \\alpha_t x_t ||^2$$\n",
    "\n",
    "Developping the previous expression yields : \n",
    "$$ \\alpha_t y_t - \\frac{\\lambda t}{2} ( ||w^{(t-1)}||^2 + 2 \\frac{\\alpha_t}{\\lambda t} \\langle w^{(t-1)}, x_t \\rangle + \\frac{\\alpha_t^2}{\\lambda^2 t^2}||x_t||^2 )$$\n",
    "\n",
    "This is a second order polynomial in $\\alpha_t$. With a negative coefficient on the second order term. Thus this is concave. Setting the derivative w.r.t $\\alpha_t$ yields : \n",
    "\n",
    "$$ y_t - \\langle w^{(t-1)}, x_t \\rangle - \\frac{\\alpha_t^2}{2 \\lambda t} = 0$$\n",
    "\n",
    "\n",
    "This gives us an optimal $\\alpha_t$ which is given by : \n",
    "$$ \\alpha_t= \\frac{\\lambda t}{||x_t||^2} (y_t - x_t^T w^{(t-1)})$$"
   ]
  },
  {
   "cell_type": "code",
   "execution_count": 346,
   "metadata": {
    "collapsed": true
   },
   "outputs": [],
   "source": [
    "def hinge_sgd_update(w, xt, yt, lamb, t):\n",
    "    wdotx = np.dot(xt.T, w)\n",
    "    xsqrnorm = np.power(np.linalg.norm(xt), 2)\n",
    "    return ((lamb * t) / xsqrnorm) * (yt - wdotx)\n",
    "\n",
    "hinge.set_sgd_update(hinge_sgd_update)"
   ]
  },
  {
   "cell_type": "code",
   "execution_count": 347,
   "metadata": {
    "collapsed": false
   },
   "outputs": [],
   "source": [
    "def modified_sgd(xmat, y, lamb, lossfunc=hinge):\n",
    "    d = xmat.shape[0]\n",
    "    n = xmat.shape[1]\n",
    "    alpha = np.zeros((n, ))\n",
    "    w = np.zeros((d, ))\n",
    "    for t in range(0, n):\n",
    "        alpha[t] = lossfunc.sgd_update(w, xmat[:, t], y[t], lamb, t)\n",
    "        w = alpha_to_w(alpha[:t + 1], xmat[:, :t + 1], lamb)\n",
    "    return alpha, w       "
   ]
  },
  {
   "cell_type": "code",
   "execution_count": 348,
   "metadata": {
    "collapsed": false
   },
   "outputs": [],
   "source": [
    "alpha0, w0 = modified_sgd(xmat_cr, y_cr, 1)"
   ]
  },
  {
   "cell_type": "markdown",
   "metadata": {
    "collapsed": true
   },
   "source": [
    "## SDCA Perm"
   ]
  },
  {
   "cell_type": "code",
   "execution_count": 361,
   "metadata": {
    "collapsed": true
   },
   "outputs": [],
   "source": [
    "def sdca_perm_epoch(w, alpha, xmat, y, lamb, lossfunc=hinge):\n",
    "    n = xmat.shape[1]\n",
    "    inds = np.array(range(0, n))\n",
    "    np.random.shuffle(inds)\n",
    "    for j in range(0, n):\n",
    "        i = inds[j]\n",
    "        delta = lossfunc.sdca_update(w, xmat[:, i], y[i], alpha[i], lamb)\n",
    "        alpha[i] += delta\n",
    "        w += (1 / (lamb * n)) * delta * xmat[:, i]"
   ]
  },
  {
   "cell_type": "code",
   "execution_count": 362,
   "metadata": {
    "collapsed": false
   },
   "outputs": [],
   "source": [
    "def sdca_perm(alpha0, xmat, y, lamb, nmax_epochs, epsilon, lossfunc=hinge):\n",
    "    n = xmat.shape[1]\n",
    "    alpha = alpha0.copy()\n",
    "    w = alpha_to_w(alpha0, xmat, lamb)\n",
    "    loss_track = []\n",
    "    loss_track.append(cum_loss(w, xmat, y, lamb, lossfunc))\n",
    "    gaps_track = []\n",
    "    gap = np.inf\n",
    "    k = 0\n",
    "    # while (gap > epsilon) and (k < nmax_epochs) :\n",
    "    while k < nmax_epochs :\n",
    "        sdca_perm_epoch(w, alpha, xmat, y, lamb, lossfunc)\n",
    "        k += 1\n",
    "        loss_track.append(cum_loss(w, xmat, y, lamb, lossfunc))\n",
    "        gaps_track.append(duality_gap(alpha, xmat, y, lamb, lossfunc))\n",
    "    return w, alpha, loss_track, gaps_track"
   ]
  },
  {
   "cell_type": "code",
   "execution_count": 363,
   "metadata": {
    "collapsed": false
   },
   "outputs": [],
   "source": [
    "wstar, alphastar, losses, gaps = sdca_perm(alpha0, xmat, y, 0.1, 100, 0.001)"
   ]
  },
  {
   "cell_type": "code",
   "execution_count": 364,
   "metadata": {
    "collapsed": false
   },
   "outputs": [
    {
     "data": {
      "image/png": "[encoded data removed]",
      "text/plain": [
       "<matplotlib.figure.Figure at 0x2e8f9a94c50>"
      ]
     },
     "metadata": {},
     "output_type": "display_data"
    },
    {
     "data": {
      "text/plain": [
       "array([ 0.17607451,  0.30433856])"
      ]
     },
     "execution_count": 364,
     "metadata": {},
     "output_type": "execute_result"
    }
   ],
   "source": [
    "plt.plot(hist)\n",
    "plt.show()\n",
    "wstar"
   ]
  },
  {
   "cell_type": "code",
   "execution_count": 365,
   "metadata": {
    "collapsed": false
   },
   "outputs": [
    {
     "data": {
      "image/png": "[encoded data removed]",
      "text/plain": [
       "<matplotlib.figure.Figure at 0x2e8f9a0a940>"
      ]
     },
     "metadata": {},
     "output_type": "display_data"
    }
   ],
   "source": [
    "plt.plot(gaps)\n",
    "plt.show()"
   ]
  },
  {
   "cell_type": "code",
   "execution_count": 366,
   "metadata": {
    "collapsed": true
   },
   "outputs": [],
   "source": [
    "def hyperplane(w, xgrid):\n",
    "    return (-w[0] / w[1]) * xgrid"
   ]
  },
  {
   "cell_type": "code",
   "execution_count": 367,
   "metadata": {
    "collapsed": false
   },
   "outputs": [
    {
     "data": {
      "image/png": "[encoded data removed]",
      "text/plain": [
       "<matplotlib.figure.Figure at 0x2e8f9acc0b8>"
      ]
     },
     "metadata": {},
     "output_type": "display_data"
    }
   ],
   "source": [
    "positive = xy_cr[xy_cr [:, 2] == 1]\n",
    "negative = xy_cr[xy_cr [:, 2] == -1]\n",
    "fig = plt.figure()\n",
    "plt.scatter(positive[:, 0], positive[:, 1])\n",
    "plt.scatter(negative[:, 0], negative[:, 1])\n",
    "ax = fig.axes[0]\n",
    "xlim = ax.get_xlim()\n",
    "xgrid = np.linspace(xlim[0], xlim[1], 1000)\n",
    "sep = (xgrid, hyperplane(wstar, xgrid))\n",
    "ax.plot(sep[0], sep[1], c=\"r\")\n",
    "plt.show()"
   ]
  },
  {
   "cell_type": "code",
   "execution_count": null,
   "metadata": {
    "collapsed": true
   },
   "outputs": [],
   "source": []
  }
 ],
 "metadata": {
  "kernelspec": {
   "display_name": "Python 3",
   "language": "python",
   "name": "python3"
  },
  "language_info": {
   "codemirror_mode": {
    "name": "ipython",
    "version": 3
   },
   "file_extension": ".py",
   "mimetype": "text/x-python",
   "name": "python",
   "nbconvert_exporter": "python",
   "pygments_lexer": "ipython3",
   "version": "3.5.4"
  }
 },
 "nbformat": 4,
 "nbformat_minor": 0
}
