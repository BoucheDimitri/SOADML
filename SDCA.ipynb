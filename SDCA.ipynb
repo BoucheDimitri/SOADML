{
 "cells": [
  {
   "cell_type": "code",
   "execution_count": 133,
   "metadata": {
    "collapsed": true
   },
   "outputs": [],
   "source": [
    "import numpy as np\n",
    "import matplotlib.pyplot as plt"
   ]
  },
  {
   "cell_type": "code",
   "execution_count": 134,
   "metadata": {
    "collapsed": true
   },
   "outputs": [],
   "source": [
    "def gaussian_data(mus, covmats, n):\n",
    "    g1 = np.random.multivariate_normal(mus[0], covmats[0], int(n / 2))\n",
    "    y1 = np.ones((int(n / 2), 1))\n",
    "    xy1 = np.concatenate((g1, y1), axis=1)\n",
    "    g2 = np.random.multivariate_normal(mus[1], covmats[1], int((n + 1) / 2))\n",
    "    y2 = - np.ones((int((n + 1) / 2), 1))\n",
    "    xy2 = np.concatenate((g2, y2), axis=1)\n",
    "    xy = np.concatenate((xy1, xy2), axis=0)\n",
    "    np.random.shuffle(xy)\n",
    "    return xy                      "
   ]
  },
  {
   "cell_type": "code",
   "execution_count": 135,
   "metadata": {
    "collapsed": false
   },
   "outputs": [
    {
     "data": {
      "image/png": "[encoded data removed]",
      "text/plain": [
       "<matplotlib.figure.Figure at 0x2e8f9bba668>"
      ]
     },
     "metadata": {},
     "output_type": "display_data"
    }
   ],
   "source": [
    "xy = gaussian_data(([1, 1], [3, 3]), (np.eye(2), np.eye(2)), 1000)\n",
    "positive = xy[xy[:, 2] == 1]\n",
    "negative = xy[xy[:, 2] == -1]\n",
    "plt.scatter(positive[:, 0], positive[:, 1])\n",
    "plt.scatter(negative[:, 0], negative[:, 1])\n",
    "plt.show()\n",
    "xmat = xy[:, :2].T\n",
    "y = xy[:, 2:].T"
   ]
  },
  {
   "cell_type": "markdown",
   "metadata": {},
   "source": [
    "## LossFunc class\n",
    "We create here an almost empty class model for losses functions. The objective is to be able to change loss function easily"
   ]
  },
  {
   "cell_type": "code",
   "execution_count": 136,
   "metadata": {
    "collapsed": true
   },
   "outputs": [],
   "source": [
    "class LossFunc:\n",
    "    \n",
    "    def __init__(self):\n",
    "        self.primal = None\n",
    "        self.dual = None\n",
    "        self.sdca_update = None\n",
    "        self.sgd_update = None\n",
    "    \n",
    "    def set_primal(self, func):\n",
    "        self.primal = func\n",
    "    \n",
    "    def set_dual(self, func):\n",
    "        self.dual = func\n",
    "    \n",
    "    def set_sdca_update(self, func):\n",
    "        self.sdca_update = func\n",
    "    \n",
    "    def set_sgd_update(self, func):\n",
    "        self.sgd_update = func"
   ]
  },
  {
   "cell_type": "markdown",
   "metadata": {},
   "source": [
    "We define the hinge loss using the class framework defined above"
   ]
  },
  {
   "cell_type": "code",
   "execution_count": 137,
   "metadata": {
    "collapsed": false
   },
   "outputs": [],
   "source": [
    "def vector_hinge_loss(a, y):\n",
    "    return np.maximum(0, 1 - y * a)\n",
    "\n",
    "def vector_hinge_dual(alpha, y):\n",
    "    prod = alpha * y\n",
    "    prod[prod > 0] = np.inf\n",
    "    prod[prod < -1] = np.inf\n",
    "    return prod\n",
    "\n",
    "def hinge_delta_alpha(w, xi, yi, alphai, lamb):\n",
    "    n = xi.shape[0]\n",
    "    q = lamb * n * (1 - np.dot(xi.T, w) * yi) / np.power(np.linalg.norm(xi), 2)\n",
    "    q += alphai\n",
    "    return max(-1, min(1, q)) - alphai\n",
    "    \n",
    "hinge = LossFunc()\n",
    "hinge.set_primal(vector_hinge_loss)\n",
    "hinge.set_dual(vector_hinge_dual)\n",
    "hinge.set_sdca_update(hinge_delta_alpha)"
   ]
  },
  {
   "cell_type": "markdown",
   "metadata": {},
   "source": [
    "## Primal and dual of cumulative regularized loss\n",
    "We define in this section:\n",
    "1. Some intermediaries functions\n",
    "1. The primal dual correspondance function (associating w(alpha) to alpha)\n",
    "1. The primal and dual cumulative loss functions\n",
    "1. The duality gap function"
   ]
  },
  {
   "cell_type": "code",
   "execution_count": 138,
   "metadata": {
    "collapsed": true
   },
   "outputs": [],
   "source": [
    "def w_dot_xmat(w, xmat):\n",
    "    return np.dot(np.transpose(w), xmat)"
   ]
  },
  {
   "cell_type": "code",
   "execution_count": 139,
   "metadata": {
    "collapsed": true
   },
   "outputs": [],
   "source": [
    "def cum_loss(w, xmat, y, lamb, lossfunc=hinge):\n",
    "    a = w_dot_xmat(w, xmat) \n",
    "    cumloss = np.mean(lossfunc.primal(a, y))\n",
    "    reg = (lamb / 2) * np.power(np.linalg.norm(w), 2)\n",
    "    return cumloss + reg"
   ]
  },
  {
   "cell_type": "code",
   "execution_count": 140,
   "metadata": {
    "collapsed": true
   },
   "outputs": [],
   "source": [
    "def alpha_to_w(alpha, xmat, lamb):\n",
    "    n = xmat.shape[1]\n",
    "    return (1 / (n * lamb)) * np.dot(xmat, alpha.T)"
   ]
  },
  {
   "cell_type": "code",
   "execution_count": 141,
   "metadata": {
    "collapsed": true
   },
   "outputs": [],
   "source": [
    "def cum_loss_dual(alpha, xmat, y, lamb, lossfunc=hinge):\n",
    "    cumlossdual = np.mean(- lossfunc.dual(- alpha, y))\n",
    "    w = alpha_to_w(alpha, xmat, lamb)\n",
    "    reg = (lamb / 2) * np.power(np.linalg.norm(w), 2)\n",
    "    return cumlossdual + reg"
   ]
  },
  {
   "cell_type": "code",
   "execution_count": 142,
   "metadata": {
    "collapsed": false
   },
   "outputs": [
    {
     "data": {
      "text/plain": [
       "-inf"
      ]
     },
     "execution_count": 142,
     "metadata": {},
     "output_type": "execute_result"
    }
   ],
   "source": [
    "# Test for those few first functions\n",
    "w_test = np.array([1, 1])\n",
    "w_test = w_test.reshape((2, 1))\n",
    "a = w_dot_xmat(w_test, xmat)\n",
    "h = vector_hinge_loss(a, y)\n",
    "cumloss = cum_loss(w_test, xmat, y, 1)\n",
    "n = y.shape[1]\n",
    "alpha_test = 0.5 * np.ones((1, n))\n",
    "cum_loss_dual(alpha_test, xmat, y, 1)"
   ]
  },
  {
   "cell_type": "code",
   "execution_count": 143,
   "metadata": {
    "collapsed": true
   },
   "outputs": [],
   "source": [
    "def duality_gap(alpha, xmat, y, lamb, lossfunc=hinge):\n",
    "    w = alpha_to_w(alpha, xmat, lamb)\n",
    "    p = cum_loss(w, xmat, y, lamb, lossfunc)\n",
    "    d = cum_loss_dual(alpha, xmat, y, lamb, lossfunc)\n",
    "    return p - d"
   ]
  },
  {
   "cell_type": "markdown",
   "metadata": {},
   "source": [
    "## Modified SGD for initialization"
   ]
  },
  {
   "cell_type": "markdown",
   "metadata": {},
   "source": [
    "We wish to find $\\alpha_t$ that maximizes : \n",
    "$$ - \\phi_t^{\\star}(-\\alpha_t) - \\frac{\\lambda t}{2} ||w^{(t-1)} + (\\lambda t)^{-1} \\alpha_t x_t ||^2$$\n",
    "\n",
    "Developping the previous expression yields : \n",
    "$$ \\alpha_t y_t - \\frac{\\lambda t}{2} ( ||w^{(t-1)}||^2 + 2 \\frac{\\alpha_t}{\\lambda t} \\langle w^{(t-1)}, x_t \\rangle + \\frac{\\alpha_t^2}{\\lambda^2 t^2}||x_t||^2 )$$\n",
    "\n",
    "This is a second order polynomial in $\\alpha_t$. With a negative coefficient on the second order term. Thus this is concave. Setting the derivative w.r.t $\\alpha_t$ yields : \n",
    "\n",
    "$$ y_t - \\langle w^{(t-1)}, x_t \\rangle - \\frac{\\alpha_t^2}{2 \\lambda t} = 0$$\n",
    "\n",
    "\n",
    "This gives us an optimal $\\alpha_t$ which is given by : \n",
    "$$ \\alpha_t= \\frac{\\lambda t}{||x_t||^2} (y_t - x_t^T w^{(t-1)})$$"
   ]
  },
  {
   "cell_type": "code",
   "execution_count": 144,
   "metadata": {
    "collapsed": true
   },
   "outputs": [],
   "source": [
    "def hinge_sgd_update(w, xt, yt, lamb, t):\n",
    "    wdotx = np.dot(xt.T, w)\n",
    "    xsqrnorm = np.power(np.linalg.norm(xt), 2)\n",
    "    return ((lamb * t) / xsqrnorm) * (yt - wdotx)\n",
    "\n",
    "hinge.set_sgd_update(hinge_sgd_update)"
   ]
  },
  {
   "cell_type": "code",
   "execution_count": 145,
   "metadata": {
    "collapsed": false
   },
   "outputs": [],
   "source": [
    "def modified_sgd(xmat, y, lamb, lossfunc=hinge):\n",
    "    d = xmat.shape[0]\n",
    "    n = xmat.shape[1]\n",
    "    alpha = np.zeros((1, n))\n",
    "    w = np.zeros((d, 1))\n",
    "    for t in range(0, n):\n",
    "        alpha[0, t] = lossfunc.sgd_update(w, xmat[:, t], y[0, t], lamb, t)\n",
    "        w = alpha_to_w(alpha[:, :t + 1], xmat[:, :t + 1], lamb)\n",
    "    return alpha, w       "
   ]
  },
  {
   "cell_type": "code",
   "execution_count": 146,
   "metadata": {
    "collapsed": false
   },
   "outputs": [],
   "source": [
    "alpha0, w0 = modified_sgd(xmat, y, 1)"
   ]
  },
  {
   "cell_type": "markdown",
   "metadata": {
    "collapsed": true
   },
   "source": [
    "## SDCA Perm"
   ]
  },
  {
   "cell_type": "code",
   "execution_count": 147,
   "metadata": {
    "collapsed": false
   },
   "outputs": [],
   "source": [
    "def sdca_perm(alpha0, xmat, y, lamb, nmax_epochs, epsilon, lossfunc=hinge):\n",
    "    n = xmat.shape[1]\n",
    "    alpha = alpha0.copy()\n",
    "    w = alpha_to_w(alpha0, xmat, lamb)\n",
    "    loss_track = []\n",
    "    loss_track.append(cum_loss(w, xmat, y, lamb, lossfunc))\n",
    "    inds = np.array(range(0, n))\n",
    "    np.random.shuffle(inds)\n",
    "    gap = np.inf\n",
    "    k = 0\n",
    "    while (gap > epsilon) and (k < nmax_epochs) :\n",
    "        inds = np.array(range(0, n))\n",
    "        np.random.shuffle(inds)\n",
    "        for j in range(0, n):\n",
    "            i = inds[j]\n",
    "            delta = lossfunc.sdca_update(w, xmat[:, i], y[0, i], alpha[0, i], lamb)\n",
    "            alpha[0, i] += delta\n",
    "            w += ((1 / (lamb * n)) * delta * xmat[:, i]).reshape((2, 1))\n",
    "        k += 1\n",
    "        loss_track.append(cum_loss(w, xmat, y, lamb, lossfunc))\n",
    "        gap = duality_gap(alpha, xmat, y, lamb, lossfunc)\n",
    "    return w, alpha, loss_track"
   ]
  },
  {
   "cell_type": "code",
   "execution_count": 151,
   "metadata": {
    "collapsed": false
   },
   "outputs": [],
   "source": [
    "wstar, alphastar, hist = sdca_perm(alpha0, xmat, y, 1, 100, 0.0001)"
   ]
  },
  {
   "cell_type": "code",
   "execution_count": 152,
   "metadata": {
    "collapsed": false
   },
   "outputs": [
    {
     "data": {
      "image/png": "[encoded data removed]",
      "text/plain": [
       "<matplotlib.figure.Figure at 0x2e8fac20ef0>"
      ]
     },
     "metadata": {},
     "output_type": "display_data"
    },
    {
     "data": {
      "text/plain": [
       "array([[-1.01744907],\n",
       "       [-0.9950242 ]])"
      ]
     },
     "execution_count": 152,
     "metadata": {},
     "output_type": "execute_result"
    }
   ],
   "source": [
    "plt.plot(hist)\n",
    "plt.show()\n",
    "wstar"
   ]
  },
  {
   "cell_type": "code",
   "execution_count": 153,
   "metadata": {
    "collapsed": true
   },
   "outputs": [],
   "source": [
    "def hyperplane(w, xgrid):\n",
    "    return (-w[0, 0] / w[1, 0]) * xgrid"
   ]
  },
  {
   "cell_type": "code",
   "execution_count": 154,
   "metadata": {
    "collapsed": false
   },
   "outputs": [
    {
     "data": {
      "image/png": "[encoded data removed]",
      "text/plain": [
       "<matplotlib.figure.Figure at 0x2e8fabe2e48>"
      ]
     },
     "metadata": {},
     "output_type": "display_data"
    }
   ],
   "source": [
    "positive = xy[xy[:, 2] == 1]\n",
    "negative = xy[xy[:, 2] == -1]\n",
    "fig = plt.figure()\n",
    "plt.scatter(positive[:, 0], positive[:, 1])\n",
    "plt.scatter(negative[:, 0], negative[:, 1])\n",
    "ax = fig.axes[0]\n",
    "xlim = ax.get_xlim()\n",
    "xgrid = np.linspace(xlim[0], xlim[1], 1000)\n",
    "sep = (xgrid, hyperplane(wstar, xgrid))\n",
    "ax.plot(sep[0], sep[1])\n",
    "plt.show()"
   ]
  },
  {
   "cell_type": "code",
   "execution_count": 128,
   "metadata": {
    "collapsed": true
   },
   "outputs": [],
   "source": [
    "fig = plt.figure()\n",
    "ax = fig.axes"
   ]
  },
  {
   "cell_type": "code",
   "execution_count": 129,
   "metadata": {
    "collapsed": false
   },
   "outputs": [
    {
     "data": {
      "text/plain": [
       "[]"
      ]
     },
     "execution_count": 129,
     "metadata": {},
     "output_type": "execute_result"
    }
   ],
   "source": [
    "ax"
   ]
  },
  {
   "cell_type": "code",
   "execution_count": null,
   "metadata": {
    "collapsed": true
   },
   "outputs": [],
   "source": []
  }
 ],
 "metadata": {
  "kernelspec": {
   "display_name": "Python 3",
   "language": "python",
   "name": "python3"
  },
  "language_info": {
   "codemirror_mode": {
    "name": "ipython",
    "version": 3
   },
   "file_extension": ".py",
   "mimetype": "text/x-python",
   "name": "python",
   "nbconvert_exporter": "python",
   "pygments_lexer": "ipython3",
   "version": "3.5.4"
  }
 },
 "nbformat": 4,
 "nbformat_minor": 0
}
