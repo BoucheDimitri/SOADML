{
 "cells": [
  {
   "cell_type": "code",
   "execution_count": 133,
   "metadata": {
    "collapsed": true
   },
   "outputs": [],
   "source": [
    "import numpy as np\n",
    "import matplotlib.pyplot as plt"
   ]
  },
  {
   "cell_type": "code",
   "execution_count": 134,
   "metadata": {
    "collapsed": true
   },
   "outputs": [],
   "source": [
    "def gaussian_data(mus, covmats, n):\n",
    "    g1 = np.random.multivariate_normal(mus[0], covmats[0], int(n / 2))\n",
    "    y1 = np.ones((int(n / 2), 1))\n",
    "    xy1 = np.concatenate((g1, y1), axis=1)\n",
    "    g2 = np.random.multivariate_normal(mus[1], covmats[1], int((n + 1) / 2))\n",
    "    y2 = - np.ones((int((n + 1) / 2), 1))\n",
    "    xy2 = np.concatenate((g2, y2), axis=1)\n",
    "    xy = np.concatenate((xy1, xy2), axis=0)\n",
    "    np.random.shuffle(xy)\n",
    "    return xy                      "
   ]
  },
  {
   "cell_type": "code",
   "execution_count": 163,
   "metadata": {
    "collapsed": false
   },
   "outputs": [
    {
     "data": {
      "image/png": "[encoded data removed]",
      "text/plain": [
       "<matplotlib.figure.Figure at 0x2e8fac1aba8>"
      ]
     },
     "metadata": {},
     "output_type": "display_data"
    },
    {
     "data": {
      "text/plain": [
       "(1000,)"
      ]
     },
     "execution_count": 163,
     "metadata": {},
     "output_type": "execute_result"
    }
   ],
   "source": [
    "xy = gaussian_data(([1, 1], [3, 3]), (np.eye(2), np.eye(2)), 1000)\n",
    "positive = xy[xy[:, 2] == 1]\n",
    "negative = xy[xy[:, 2] == -1]\n",
    "plt.scatter(positive[:, 0], positive[:, 1])\n",
    "plt.scatter(negative[:, 0], negative[:, 1])\n",
    "plt.show()\n",
    "xmat = xy[:, :2].T\n",
    "y = xy[:, 2].T"
   ]
  },
  {
   "cell_type": "markdown",
   "metadata": {},
   "source": [
    "## LossFunc class\n",
    "We create here an almost empty class model for losses functions. The objective is to be able to change loss function easily"
   ]
  },
  {
   "cell_type": "code",
   "execution_count": 136,
   "metadata": {
    "collapsed": true
   },
   "outputs": [],
   "source": [
    "class LossFunc:\n",
    "    \n",
    "    def __init__(self):\n",
    "        self.primal = None\n",
    "        self.dual = None\n",
    "        self.sdca_update = None\n",
    "        self.sgd_update = None\n",
    "    \n",
    "    def set_primal(self, func):\n",
    "        self.primal = func\n",
    "    \n",
    "    def set_dual(self, func):\n",
    "        self.dual = func\n",
    "    \n",
    "    def set_sdca_update(self, func):\n",
    "        self.sdca_update = func\n",
    "    \n",
    "    def set_sgd_update(self, func):\n",
    "        self.sgd_update = func"
   ]
  },
  {
   "cell_type": "markdown",
   "metadata": {},
   "source": [
    "We define the hinge loss using the class framework defined above"
   ]
  },
  {
   "cell_type": "code",
   "execution_count": 137,
   "metadata": {
    "collapsed": false
   },
   "outputs": [],
   "source": [
    "def vector_hinge_loss(a, y):\n",
    "    return np.maximum(0, 1 - y * a)\n",
    "\n",
    "def vector_hinge_dual(alpha, y):\n",
    "    prod = alpha * y\n",
    "    prod[prod > 0] = np.inf\n",
    "    prod[prod < -1] = np.inf\n",
    "    return prod\n",
    "\n",
    "def hinge_delta_alpha(w, xi, yi, alphai, lamb):\n",
    "    n = xi.shape[0]\n",
    "    q = lamb * n * (1 - np.dot(xi.T, w) * yi) / np.power(np.linalg.norm(xi), 2)\n",
    "    q += alphai * yi\n",
    "    return yi * max(0, min(1, q)) - alphai\n",
    "    \n",
    "hinge = LossFunc()\n",
    "hinge.set_primal(vector_hinge_loss)\n",
    "hinge.set_dual(vector_hinge_dual)\n",
    "hinge.set_sdca_update(hinge_delta_alpha)"
   ]
  },
  {
   "cell_type": "markdown",
   "metadata": {},
   "source": [
    "## Primal and dual of cumulative regularized loss\n",
    "We define in this section:\n",
    "1. Some intermediaries functions\n",
    "1. The primal dual correspondance function (associating w(alpha) to alpha)\n",
    "1. The primal and dual cumulative loss functions\n",
    "1. The duality gap function"
   ]
  },
  {
   "cell_type": "code",
   "execution_count": 138,
   "metadata": {
    "collapsed": true
   },
   "outputs": [],
   "source": [
    "def w_dot_xmat(w, xmat):\n",
    "    return np.dot(np.transpose(w), xmat)"
   ]
  },
  {
   "cell_type": "code",
   "execution_count": 139,
   "metadata": {
    "collapsed": true
   },
   "outputs": [],
   "source": [
    "def cum_loss(w, xmat, y, lamb, lossfunc=hinge):\n",
    "    a = w_dot_xmat(w, xmat) \n",
    "    cumloss = np.mean(lossfunc.primal(a, y))\n",
    "    reg = (lamb / 2) * np.power(np.linalg.norm(w), 2)\n",
    "    return cumloss + reg"
   ]
  },
  {
   "cell_type": "code",
   "execution_count": 140,
   "metadata": {
    "collapsed": true
   },
   "outputs": [],
   "source": [
    "def alpha_to_w(alpha, xmat, lamb):\n",
    "    n = xmat.shape[1]\n",
    "    return (1 / (n * lamb)) * np.dot(xmat, alpha.T)"
   ]
  },
  {
   "cell_type": "code",
   "execution_count": 141,
   "metadata": {
    "collapsed": true
   },
   "outputs": [],
   "source": [
    "def cum_loss_dual(alpha, xmat, y, lamb, lossfunc=hinge):\n",
    "    cumlossdual = np.mean(- lossfunc.dual(- alpha, y))\n",
    "    w = alpha_to_w(alpha, xmat, lamb)\n",
    "    reg = (lamb / 2) * np.power(np.linalg.norm(w), 2)\n",
    "    return cumlossdual + reg"
   ]
  },
  {
   "cell_type": "code",
   "execution_count": 142,
   "metadata": {
    "collapsed": false
   },
   "outputs": [
    {
     "data": {
      "text/plain": [
       "-inf"
      ]
     },
     "execution_count": 142,
     "metadata": {},
     "output_type": "execute_result"
    }
   ],
   "source": [
    "# Test for those few first functions\n",
    "w_test = np.array([1, 1])\n",
    "w_test = w_test.reshape((2, 1))\n",
    "a = w_dot_xmat(w_test, xmat)\n",
    "h = vector_hinge_loss(a, y)\n",
    "cumloss = cum_loss(w_test, xmat, y, 1)\n",
    "n = y.shape[1]\n",
    "alpha_test = 0.5 * np.ones((1, n))\n",
    "cum_loss_dual(alpha_test, xmat, y, 1)"
   ]
  },
  {
   "cell_type": "code",
   "execution_count": 143,
   "metadata": {
    "collapsed": true
   },
   "outputs": [],
   "source": [
    "def duality_gap(alpha, xmat, y, lamb, lossfunc=hinge):\n",
    "    w = alpha_to_w(alpha, xmat, lamb)\n",
    "    p = cum_loss(w, xmat, y, lamb, lossfunc)\n",
    "    d = cum_loss_dual(alpha, xmat, y, lamb, lossfunc)\n",
    "    return p - d"
   ]
  },
  {
   "cell_type": "markdown",
   "metadata": {},
   "source": [
    "## Modified SGD for initialization"
   ]
  },
  {
   "cell_type": "markdown",
   "metadata": {},
   "source": [
    "We wish to find $\\alpha_t$ that maximizes : \n",
    "$$ - \\phi_t^{\\star}(-\\alpha_t) - \\frac{\\lambda t}{2} ||w^{(t-1)} + (\\lambda t)^{-1} \\alpha_t x_t ||^2$$\n",
    "\n",
    "Developping the previous expression yields : \n",
    "$$ \\alpha_t y_t - \\frac{\\lambda t}{2} ( ||w^{(t-1)}||^2 + 2 \\frac{\\alpha_t}{\\lambda t} \\langle w^{(t-1)}, x_t \\rangle + \\frac{\\alpha_t^2}{\\lambda^2 t^2}||x_t||^2 )$$\n",
    "\n",
    "This is a second order polynomial in $\\alpha_t$. With a negative coefficient on the second order term. Thus this is concave. Setting the derivative w.r.t $\\alpha_t$ yields : \n",
    "\n",
    "$$ y_t - \\langle w^{(t-1)}, x_t \\rangle - \\frac{\\alpha_t^2}{2 \\lambda t} = 0$$\n",
    "\n",
    "\n",
    "This gives us an optimal $\\alpha_t$ which is given by : \n",
    "$$ \\alpha_t= \\frac{\\lambda t}{||x_t||^2} (y_t - x_t^T w^{(t-1)})$$"
   ]
  },
  {
   "cell_type": "code",
   "execution_count": 144,
   "metadata": {
    "collapsed": true
   },
   "outputs": [],
   "source": [
    "def hinge_sgd_update(w, xt, yt, lamb, t):\n",
    "    wdotx = np.dot(xt.T, w)\n",
    "    xsqrnorm = np.power(np.linalg.norm(xt), 2)\n",
    "    return ((lamb * t) / xsqrnorm) * (yt - wdotx)\n",
    "\n",
    "hinge.set_sgd_update(hinge_sgd_update)"
   ]
  },
  {
   "cell_type": "code",
   "execution_count": 145,
   "metadata": {
    "collapsed": false
   },
   "outputs": [],
   "source": [
    "def modified_sgd(xmat, y, lamb, lossfunc=hinge):\n",
    "    d = xmat.shape[0]\n",
    "    n = xmat.shape[1]\n",
    "    alpha = np.zeros((1, n))\n",
    "    w = np.zeros((d, 1))\n",
    "    for t in range(0, n):\n",
    "        alpha[0, t] = lossfunc.sgd_update(w, xmat[:, t], y[0, t], lamb, t)\n",
    "        w = alpha_to_w(alpha[:, :t + 1], xmat[:, :t + 1], lamb)\n",
    "    return alpha, w       "
   ]
  },
  {
   "cell_type": "code",
   "execution_count": 146,
   "metadata": {
    "collapsed": false
   },
   "outputs": [],
   "source": [
    "alpha0, w0 = modified_sgd(xmat, y, 1)"
   ]
  },
  {
   "cell_type": "markdown",
   "metadata": {
    "collapsed": true
   },
   "source": [
    "## SDCA Perm"
   ]
  },
  {
   "cell_type": "code",
   "execution_count": 147,
   "metadata": {
    "collapsed": false
   },
   "outputs": [],
   "source": [
    "def sdca_perm(alpha0, xmat, y, lamb, nmax_epochs, epsilon, lossfunc=hinge):\n",
    "    n = xmat.shape[1]\n",
    "    alpha = alpha0.copy()\n",
    "    w = alpha_to_w(alpha0, xmat, lamb)\n",
    "    loss_track = []\n",
    "    loss_track.append(cum_loss(w, xmat, y, lamb, lossfunc))\n",
    "    inds = np.array(range(0, n))\n",
    "    np.random.shuffle(inds)\n",
    "    gap = np.inf\n",
    "    k = 0\n",
    "    while (gap > epsilon) and (k < nmax_epochs) :\n",
    "        inds = np.array(range(0, n))\n",
    "        np.random.shuffle(inds)\n",
    "        for j in range(0, n):\n",
    "            i = inds[j]\n",
    "            delta = lossfunc.sdca_update(w, xmat[:, i], y[0, i], alpha[0, i], lamb)\n",
    "            alpha[0, i] += delta\n",
    "            w += ((1 / (lamb * n)) * delta * xmat[:, i]).reshape((2, 1))\n",
    "        k += 1\n",
    "        loss_track.append(cum_loss(w, xmat, y, lamb, lossfunc))\n",
    "        gap = duality_gap(alpha, xmat, y, lamb, lossfunc)\n",
    "    return w, alpha, loss_track"
   ]
  },
  {
   "cell_type": "code",
   "execution_count": 151,
   "metadata": {
    "collapsed": false
   },
   "outputs": [],
   "source": [
    "wstar, alphastar, hist = sdca_perm(alpha0, xmat, y, 1, 100, 0.0001)"
   ]
  },
  {
   "cell_type": "code",
   "execution_count": 152,
   "metadata": {
    "collapsed": false
   },
   "outputs": [
    {
     "data": {
      "image/png": "[encoded data removed]",
      "text/plain": [
       "<matplotlib.figure.Figure at 0x2e8fac20ef0>"
      ]
     },
     "metadata": {},
     "output_type": "display_data"
    },
    {
     "data": {
      "text/plain": [
       "array([[-1.01744907],\n",
       "       [-0.9950242 ]])"
      ]
     },
     "execution_count": 152,
     "metadata": {},
     "output_type": "execute_result"
    }
   ],
   "source": [
    "plt.plot(hist)\n",
    "plt.show()\n",
    "wstar"
   ]
  },
  {
   "cell_type": "code",
   "execution_count": 153,
   "metadata": {
    "collapsed": true
   },
   "outputs": [],
   "source": [
    "def hyperplane(w, xgrid):\n",
    "    return (-w[0, 0] / w[1, 0]) * xgrid"
   ]
  },
  {
   "cell_type": "code",
   "execution_count": 154,
   "metadata": {
    "collapsed": false
   },
   "outputs": [
    {
     "data": {
      "image/png": "[encoded data removed]",
      "text/plain": [
       "<matplotlib.figure.Figure at 0x2e8fabe2e48>"
      ]
     },
     "metadata": {},
     "output_type": "display_data"
    }
   ],
   "source": [
    "positive = xy[xy[:, 2] == 1]\n",
    "negative = xy[xy[:, 2] == -1]\n",
    "fig = plt.figure()\n",
    "plt.scatter(positive[:, 0], positive[:, 1])\n",
    "plt.scatter(negative[:, 0], negative[:, 1])\n",
    "ax = fig.axes[0]\n",
    "xlim = ax.get_xlim()\n",
    "xgrid = np.linspace(xlim[0], xlim[1], 1000)\n",
    "sep = (xgrid, hyperplane(wstar, xgrid))\n",
    "ax.plot(sep[0], sep[1])\n",
    "plt.show()"
   ]
  },
  {
   "cell_type": "code",
   "execution_count": 128,
   "metadata": {
    "collapsed": true
   },
   "outputs": [],
   "source": [
    "fig = plt.figure()\n",
    "ax = fig.axes"
   ]
  },
  {
   "cell_type": "code",
   "execution_count": 129,
   "metadata": {
    "collapsed": false
   },
   "outputs": [
    {
     "data": {
      "text/plain": [
       "[]"
      ]
     },
     "execution_count": 129,
     "metadata": {},
     "output_type": "execute_result"
    }
   ],
   "source": [
    "ax"
   ]
  },
  {
   "cell_type": "code",
   "execution_count": 157,
   "metadata": {
    "collapsed": false
   },
   "outputs": [
    {
     "data": {
      "text/plain": [
       "(2, 1000)"
      ]
     },
     "execution_count": 157,
     "metadata": {},
     "output_type": "execute_result"
    }
   ],
   "source": [
    "xmat.shape"
   ]
  },
  {
   "cell_type": "code",
   "execution_count": 161,
   "metadata": {
    "collapsed": false
   },
   "outputs": [
    {
     "data": {
      "text/plain": [
       "array([ -6.45670147e-01,  -5.65521089e-02,  -1.81959989e+00,\n",
       "        -1.34118553e+00,  -1.22721072e+00,  -1.01398146e+00,\n",
       "        -8.26319986e-01,  -9.50021633e-01,  -3.48916443e-01,\n",
       "        -7.73563168e-01,  -7.59696562e-01,  -2.19638277e-01,\n",
       "        -3.83549068e-01,  -1.21826519e+00,  -5.18772398e-01,\n",
       "        -1.30307589e-02,  -1.42620583e+00,  -6.62830422e-01,\n",
       "        -6.94454769e-01,  -4.57074995e-01,  -8.21743371e-01,\n",
       "        -9.53664811e-01,  -1.20307777e+00,  -6.16161708e-01,\n",
       "        -1.51132984e+00,  -1.19847738e+00,  -3.12947329e-01,\n",
       "        -1.22153605e+00,  -8.52987564e-01,  -3.43315395e-01,\n",
       "         6.66058020e-02,  -1.27169593e+00,  -1.18468795e+00,\n",
       "         2.68307970e-01,  -8.88098657e-01,  -1.33212512e+00,\n",
       "        -9.89783112e-01,  -1.36040968e+00,  -1.90388868e-01,\n",
       "        -6.09926082e-01,  -1.48701241e-01,  -1.11403928e+00,\n",
       "        -1.94980494e-01,  -4.30708920e-01,  -1.23214161e+00,\n",
       "        -1.12625753e+00,  -1.03225814e+00,  -4.83833185e-01,\n",
       "         3.05831303e-01,  -9.72684679e-02,  -3.14764697e-01,\n",
       "        -9.24738128e-01,  -1.79574367e+00,  -1.03669489e+00,\n",
       "        -1.01811263e-01,  -1.11729139e+00,  -6.13183058e-01,\n",
       "        -9.67569162e-01,  -1.08979223e+00,  -1.12389903e+00,\n",
       "        -1.11759835e-01,  -1.95618596e-01,  -1.17815784e+00,\n",
       "        -1.55344040e+00,  -9.35447794e-01,  -1.08642103e+00,\n",
       "        -6.38846316e-01,  -1.33151692e+00,  -7.90367134e-01,\n",
       "        -6.43540949e-01,  -1.29689340e+00,  -1.06075028e+00,\n",
       "        -7.98625935e-01,  -1.61817048e+00,  -1.16988916e+00,\n",
       "        -5.70623526e-01,  -5.06479721e-02,   8.24328374e-02,\n",
       "        -7.90660722e-01,  -1.59180650e+00,  -3.48164135e-01,\n",
       "        -6.93955332e-01,  -1.00483159e-01,  -6.49210642e-02,\n",
       "        -5.51315029e-01,   1.13263778e-01,  -2.26389417e-01,\n",
       "        -1.37342083e+00,  -2.17402705e-02,  -1.34130053e+00,\n",
       "        -7.14623634e-01,  -8.95812647e-01,  -1.43850426e+00,\n",
       "        -1.50735875e-01,  -1.48521158e-01,   1.86007432e-01,\n",
       "        -1.59488323e+00,  -4.67439046e-01,  -1.36583647e+00,\n",
       "        -8.12608546e-01,  -4.59321933e-01,  -1.38974590e+00,\n",
       "        -2.10422188e-01,   2.82152692e-01,  -3.59080573e-01,\n",
       "        -1.13322103e+00,  -6.74672297e-01,  -1.94324494e+00,\n",
       "        -6.75044144e-01,  -1.38572613e-01,  -1.24969880e+00,\n",
       "        -7.23944266e-02,  -1.06210005e+00,  -1.03747720e+00,\n",
       "        -3.27252608e-01,  -8.65703395e-01,  -7.16003629e-01,\n",
       "        -8.56300582e-01,  -7.42101103e-01,  -1.05855264e+00,\n",
       "        -7.17521343e-01,  -8.29838573e-01,  -8.00925774e-01,\n",
       "        -5.31465298e-01,  -4.96617216e-01,  -1.20888968e+00,\n",
       "        -8.58003167e-01,  -3.56788899e-01,  -1.23656123e+00,\n",
       "        -4.04321292e-01,  -9.79684547e-01,  -4.34709658e-01,\n",
       "        -1.09326117e+00,  -1.19315504e+00,  -8.80458163e-02,\n",
       "        -8.94456314e-01,  -9.14198157e-01,  -5.84992475e-01,\n",
       "        -1.24587822e+00,  -1.10723148e+00,  -3.18148744e-01,\n",
       "        -9.58770259e-01,  -1.35073925e+00,   9.82408323e-02,\n",
       "        -2.44954356e-01,  -6.60018631e-01,  -1.27883600e+00,\n",
       "        -7.94463258e-01,  -1.16752275e+00,  -1.29287862e+00,\n",
       "        -8.72130877e-01,  -1.07887103e+00,  -8.70628343e-01,\n",
       "        -6.06378180e-01,  -2.13361481e-01,  -6.11753369e-01,\n",
       "         1.47180736e-01,  -9.62951593e-01,  -9.00023896e-01,\n",
       "        -8.78858680e-01,  -9.41946782e-01,  -2.27025921e-01,\n",
       "        -2.87595021e-01,  -1.57085638e+00,  -3.95097020e-01,\n",
       "        -6.00129245e-01,  -9.25483737e-01,  -1.22586734e+00,\n",
       "        -4.72120052e-01,  -1.28403331e+00,  -1.06215805e+00,\n",
       "        -4.88056855e-01,  -3.12850841e-01,  -9.82750202e-01,\n",
       "        -3.61578974e-01,  -4.95685328e-01,  -9.99216724e-02,\n",
       "        -7.86390075e-01,  -5.01277766e-01,  -8.29938208e-02,\n",
       "         1.08522622e-01,  -1.42075166e+00,  -2.39891126e-03,\n",
       "        -1.21937327e+00,  -3.47357377e-01,  -3.32294059e-01,\n",
       "        -1.61896096e-01,  -1.59754664e-01,  -4.22762409e-01,\n",
       "        -8.97808090e-03,  -1.58190390e+00,  -1.16778991e+00,\n",
       "        -2.09528618e-01,  -9.63656990e-01,  -1.38697671e-01,\n",
       "        -3.98186782e-01,   3.68164844e-01,  -1.39175434e-01,\n",
       "        -4.48946446e-01,  -1.51185507e+00,  -6.11938362e-01,\n",
       "        -6.29146524e-01,  -1.19596745e+00,   9.12282157e-02,\n",
       "        -1.17827870e+00,  -1.36046956e+00,  -1.68424573e+00,\n",
       "        -1.21538128e+00,  -1.51663303e+00,  -8.35971979e-01,\n",
       "        -8.35029341e-01,  -7.13977804e-01,  -7.37637828e-01,\n",
       "        -9.87660375e-01,  -3.72758781e-01,  -9.14088852e-01,\n",
       "        -8.52264975e-01,   2.75605162e-02,  -1.47483772e+00,\n",
       "        -1.01527136e+00,  -1.40565455e+00,  -1.13006893e+00,\n",
       "        -1.06203409e+00,  -7.95747795e-01,  -5.39113396e-01,\n",
       "        -6.36683883e-01,  -7.08190799e-01,  -1.21459155e-01,\n",
       "        -3.77601224e-01,  -9.36482681e-01,  -2.26511548e-01,\n",
       "        -4.15997667e-02,   4.77728724e-01,  -1.21919565e+00,\n",
       "        -2.28414237e-01,  -6.95654336e-01,  -8.46362474e-02,\n",
       "        -1.06320042e+00,  -2.60174921e-01,  -9.68966121e-01,\n",
       "         8.20132637e-02,  -1.63986645e-01,  -1.09584723e+00,\n",
       "        -1.01774235e+00,  -1.28402448e+00,  -1.02777858e+00,\n",
       "        -8.12817894e-01,  -1.35102024e+00,  -9.95436690e-01,\n",
       "        -1.05849900e+00,  -6.54472602e-01,  -3.96850795e-01,\n",
       "        -1.65920673e-01,  -5.83024563e-01,  -5.61373354e-01,\n",
       "        -4.94183416e-01,  -6.29499168e-01,   3.64578695e-03,\n",
       "        -1.09959487e+00,  -1.08688519e+00,  -1.15728974e+00,\n",
       "         1.01917488e-01,   1.34541307e-01,  -1.16558948e+00,\n",
       "        -5.92744453e-01,  -5.70599952e-02,  -5.63209740e-01,\n",
       "        -6.34492416e-01,  -4.79798722e-01,  -1.07833503e+00,\n",
       "        -5.63020708e-01,  -9.23815326e-01,  -1.32752303e+00,\n",
       "         2.07232685e-02,  -5.23009583e-01,  -1.07571594e+00,\n",
       "        -2.18762829e-01,  -5.62238584e-02,  -5.95620793e-01,\n",
       "        -1.18085923e+00,  -6.97750005e-01,  -1.89308052e+00,\n",
       "        -1.54643576e-01,  -7.11272428e-01,  -1.23568688e+00,\n",
       "        -8.78280689e-02,  -1.17332186e+00,  -9.30013857e-01,\n",
       "         3.83249433e-01,  -1.32130009e-01,  -4.56195598e-01,\n",
       "        -7.42446505e-01,  -5.52566679e-02,  -6.51729767e-01,\n",
       "        -1.27265382e+00,  -1.19304622e-01,  -1.24960849e+00,\n",
       "        -1.16587510e+00,  -1.28777981e+00,  -3.88520526e-01,\n",
       "        -1.43543905e+00,  -1.16101417e+00,   1.48987096e-02,\n",
       "        -1.61371747e+00,  -7.59370819e-01,  -6.58381119e-01,\n",
       "        -7.90077505e-01,  -1.18898122e+00,  -6.12630793e-01,\n",
       "        -1.40275532e+00,   7.82684640e-02,  -1.42211634e+00,\n",
       "        -1.54338720e+00,  -1.19154958e+00,  -9.74046572e-01,\n",
       "        -4.98348412e-02,  -6.45020996e-01,  -1.21717076e+00,\n",
       "        -8.03457023e-01,   4.25898874e-02,  -1.49876405e+00,\n",
       "        -5.49213108e-01,  -4.05104930e-01,  -8.18066516e-01,\n",
       "        -9.80574490e-01,  -9.61023121e-01,  -1.14557030e+00,\n",
       "        -1.40163522e+00,  -2.82275491e-01,  -8.49983712e-01,\n",
       "        -5.31457115e-02,   3.31284638e-01,  -3.33241661e-01,\n",
       "        -2.77188457e-01,  -2.13235715e-01,  -2.27432888e-01,\n",
       "        -3.93034673e-01,  -8.74303779e-01,  -1.38786812e+00,\n",
       "        -1.46994537e+00,  -3.34417655e-01,  -1.13741744e+00,\n",
       "         1.10826347e-01,  -1.03474069e+00,  -1.06085747e+00,\n",
       "        -1.08304352e+00,  -1.08497207e+00,  -6.39855596e-01,\n",
       "        -8.56153329e-01,  -1.17538531e+00,  -4.55584779e-01,\n",
       "        -7.72500319e-01,  -1.15970311e+00,  -2.39841972e-01,\n",
       "        -1.44456457e+00,  -1.36093532e+00,  -3.57919850e-01,\n",
       "        -3.64004373e-01,  -7.53087381e-01,  -8.54893828e-01,\n",
       "        -1.19728481e+00,  -7.85373944e-01,  -9.14625520e-01,\n",
       "        -5.53047472e-01,  -1.19713088e+00,  -6.24944076e-01,\n",
       "        -2.22005160e-01,  -1.38574660e+00,  -1.04214308e+00,\n",
       "        -2.26590013e-01,  -7.54537213e-01,  -3.20040362e-01,\n",
       "        -8.09668091e-01,  -1.56358978e+00,  -1.07423804e+00,\n",
       "        -1.12094306e+00,  -2.61059955e-02,   2.88402245e-01,\n",
       "        -1.51503068e-01,  -3.99929168e-01,  -1.13354174e+00,\n",
       "        -1.41682412e-01,  -4.73962928e-01,  -8.06260828e-01,\n",
       "        -1.02257980e+00,  -9.87570362e-01,  -2.58347960e-01,\n",
       "        -7.85735099e-01,   1.98809435e-01,  -8.94173381e-01,\n",
       "        -4.17557384e-01,  -1.07406006e+00,  -7.75626642e-01,\n",
       "        -4.30497020e-01,  -9.75324251e-01,  -1.47920902e+00,\n",
       "        -3.06428934e-01,  -2.55966124e-01,  -8.72383931e-01,\n",
       "        -1.57129206e+00,  -4.56579682e-01,  -1.08943671e+00,\n",
       "        -9.33159999e-01,  -6.55142245e-01,  -7.62989557e-01,\n",
       "        -1.21250250e+00,  -9.89859339e-01,  -1.21555050e+00,\n",
       "        -9.46447104e-01,  -5.83405531e-01,  -4.04173105e-01,\n",
       "        -8.85714394e-01,  -6.53235363e-01,  -2.70494412e-01,\n",
       "        -4.83783693e-01,  -1.29234550e+00,  -2.32898402e-01,\n",
       "        -1.87299366e-01,  -3.36687797e-01,  -5.93007440e-01,\n",
       "        -1.27519689e+00,  -1.17158729e+00,  -1.45246533e+00,\n",
       "        -2.93970444e-01,   7.91603283e-02,  -6.50063840e-01,\n",
       "        -1.03565562e+00,  -9.63298707e-01,  -1.15346929e+00,\n",
       "        -2.77265315e-01,  -9.41557364e-01,  -7.83906777e-02,\n",
       "        -8.19492436e-01,  -1.62845273e+00,  -1.18894407e+00,\n",
       "        -8.24375427e-01,  -1.41622758e-01,  -1.24062233e+00,\n",
       "        -5.26910555e-01,  -1.30688677e+00,  -4.36524567e-01,\n",
       "        -5.51576884e-01,   1.88443031e-02,  -2.62162082e-01,\n",
       "        -9.32710001e-01,  -1.02039724e+00,  -6.28020311e-01,\n",
       "        -1.01664202e+00,  -8.89070599e-01,  -1.19156102e+00,\n",
       "        -2.05739840e-01,  -6.52694382e-01,  -7.18977232e-01,\n",
       "        -1.09387301e+00,  -9.72397403e-01,  -5.30249794e-01,\n",
       "        -2.73723902e-01,  -1.01107662e+00,  -4.05310787e-01,\n",
       "        -1.79143629e-01,  -1.23900164e+00,   3.09648622e-01,\n",
       "         1.17977179e-01,  -8.75273082e-02,  -9.76988395e-01,\n",
       "        -8.23041314e-02,  -3.69013271e-01,  -1.08070569e+00,\n",
       "        -1.47299155e+00,  -3.27230870e-01,  -1.63671084e+00,\n",
       "        -6.63306490e-01,  -1.72104661e+00,  -1.38575371e+00,\n",
       "        -9.70131422e-01,  -9.57065411e-01,  -4.76246480e-01,\n",
       "        -1.50799891e+00,  -6.12997306e-01,  -1.22066039e+00,\n",
       "         1.10511131e-01,  -8.24313357e-01,  -3.18422432e-01,\n",
       "         1.43418064e-01,  -1.50155599e-01,  -1.66943834e+00,\n",
       "        -2.94492257e-01,  -1.70039741e+00,  -6.21331106e-01,\n",
       "        -5.33999077e-01,  -9.91338417e-01,  -2.99922739e-01,\n",
       "        -4.17212088e-02,  -1.18101405e+00,  -4.95245767e-01,\n",
       "         2.06046122e-01,  -1.27600255e+00,  -2.10593674e-01,\n",
       "        -3.67386485e-01,  -9.63403205e-01,  -9.57650807e-01,\n",
       "        -1.21331469e-01,  -7.65869823e-01,  -3.48824858e-01,\n",
       "        -4.76397027e-01,  -1.25570145e+00,  -1.00260218e+00,\n",
       "        -2.53422089e-02,  -7.45603788e-01,  -1.74199683e-01,\n",
       "        -1.33703589e+00,  -9.04627091e-01,  -6.53496358e-01,\n",
       "        -3.22862568e-01,  -1.05368542e+00,  -1.23566719e-01,\n",
       "        -7.85533722e-01,  -7.34976858e-01,  -5.24219833e-01,\n",
       "        -1.47506422e+00,   1.07062231e-01,  -6.04170916e-01,\n",
       "        -3.88796838e-01,  -4.80967044e-01,  -5.75320416e-01,\n",
       "        -1.25872724e+00,  -9.59035895e-01,  -1.37947941e+00,\n",
       "        -9.10923677e-01,  -5.10455603e-01,  -1.52778908e+00,\n",
       "        -1.69576268e+00,  -2.44919841e-01,  -1.17343786e+00,\n",
       "        -2.62888867e-01,  -6.61965657e-01,  -6.09753133e-01,\n",
       "        -4.02549719e-01,  -2.14852849e-01,  -1.63265330e-01,\n",
       "        -1.12046495e+00,  -1.45673105e+00,  -1.24399689e-01,\n",
       "        -1.08150737e+00,  -1.16669559e+00,  -7.86064736e-01,\n",
       "        -1.57077668e+00,  -8.39205233e-01,  -1.39430897e-01,\n",
       "        -9.26280353e-01,  -1.14877046e-01,  -4.18488199e-01,\n",
       "        -1.04585696e+00,  -1.13990018e+00,   3.83938338e-01,\n",
       "        -1.53798397e+00,  -6.10156691e-01,  -1.77828624e+00,\n",
       "        -1.17970636e+00,  -8.20619469e-01,  -1.10798388e+00,\n",
       "        -8.45910910e-01,  -2.36010264e-01,  -7.10715667e-01,\n",
       "        -7.03759022e-01,   2.50966281e-01,  -3.98802081e-01,\n",
       "        -1.69232929e-01,  -5.08543114e-01,  -7.42159315e-01,\n",
       "        -7.35605212e-01,  -9.50474315e-01,  -1.38059215e+00,\n",
       "         1.22279688e-01,  -1.40945190e-01,  -9.01831159e-01,\n",
       "        -1.42832995e-01,  -4.31501376e-01,  -4.25134092e-01,\n",
       "        -7.35287739e-02,  -5.99217513e-01,  -1.68674487e-01,\n",
       "        -3.45442321e-01,  -2.82397067e-01,   6.85807502e-02,\n",
       "        -1.27913793e+00,  -4.35931874e-01,  -9.58557025e-01,\n",
       "        -3.77553264e-01,  -1.48634176e+00,  -2.60457033e-01,\n",
       "        -2.35756203e-02,  -7.58883374e-01,  -5.87299909e-02,\n",
       "        -1.04372011e+00,  -5.60745546e-01,  -1.26105746e+00,\n",
       "        -3.29986253e-01,  -9.76531292e-02,  -8.41083313e-01,\n",
       "        -3.39162606e-01,  -6.10426753e-01,  -2.17778536e-01,\n",
       "        -7.74070107e-01,  -1.10561649e+00,  -5.79726807e-01,\n",
       "        -1.47344016e-01,  -6.32043514e-01,  -1.20542388e+00,\n",
       "         1.31912337e-01,  -1.21386622e+00,  -4.49097161e-02,\n",
       "        -1.31190714e+00,  -9.20370653e-01,  -1.20786994e+00,\n",
       "        -2.43198355e-01,  -1.39721365e-01,  -7.86305150e-01,\n",
       "        -8.40952049e-01,  -4.98296475e-01,  -1.16755522e+00,\n",
       "        -7.63845463e-01,  -2.23144143e-01,   6.58604940e-01,\n",
       "        -1.44156411e+00,  -4.76339269e-01,  -1.38356545e+00,\n",
       "        -9.27412450e-01,  -3.98238595e-02,  -8.40127648e-01,\n",
       "        -1.24210268e+00,  -5.45321855e-01,  -9.69570789e-01,\n",
       "        -5.50121658e-01,  -1.69674110e-01,  -1.15920605e+00,\n",
       "        -1.23373124e+00,  -1.32701240e-02,  -1.12403976e+00,\n",
       "         1.27404608e-01,  -3.55087321e-01,  -2.12275007e-01,\n",
       "        -4.88070803e-01,  -4.82543732e-01,   2.38927720e-01,\n",
       "        -6.33410704e-01,   2.17811954e-02,  -1.25537702e+00,\n",
       "        -1.20670936e+00,  -6.37574513e-01,  -6.36289700e-01,\n",
       "        -1.32289544e+00,  -1.21190697e+00,  -7.74563040e-01,\n",
       "        -5.13940696e-01,  -1.00607326e+00,  -9.64469885e-01,\n",
       "        -3.24562848e-01,  -1.22663295e+00,  -1.08437043e+00,\n",
       "        -7.21316355e-01,  -1.04206670e+00,  -1.54031127e+00,\n",
       "        -1.01380028e+00,  -1.76622097e+00,  -7.90484263e-01,\n",
       "        -5.28463764e-01,  -2.31259858e-01,  -7.15702337e-01,\n",
       "        -1.33866694e+00,  -1.49428353e+00,  -1.28962211e+00,\n",
       "        -8.74024504e-01,  -9.55403951e-01,  -5.41147926e-01,\n",
       "        -1.43741340e+00,  -7.38877951e-01,  -9.67689272e-01,\n",
       "        -5.42302136e-01,  -4.89011827e-02,  -1.39873466e+00,\n",
       "        -7.68391803e-01,  -5.25135320e-01,  -9.43830812e-01,\n",
       "        -1.13334793e-01,   2.01582709e-01,  -1.20376476e+00,\n",
       "        -6.82949717e-01,  -1.58077924e-01,  -3.76391605e-01,\n",
       "        -8.43509654e-01,  -1.24365237e+00,  -1.04057349e-01,\n",
       "        -7.75344801e-02,  -5.75444483e-01,  -9.32135527e-01,\n",
       "        -1.04727698e+00,  -3.94176733e-01,  -1.18407370e+00,\n",
       "        -1.90347305e-02,  -1.67164852e+00,  -4.61502429e-01,\n",
       "         1.26644771e-02,  -1.18462672e-01,  -1.11210162e+00,\n",
       "        -1.59883211e-01,  -1.30595005e+00,  -1.12047418e+00,\n",
       "        -5.01232098e-01,  -3.06172292e-01,  -1.48323715e+00,\n",
       "        -9.19715116e-01,   6.79639573e-01,  -1.14319876e+00,\n",
       "         2.22638404e-02,  -9.86261648e-01,  -5.57741126e-01,\n",
       "        -1.64948149e+00,  -3.91810170e-01,   1.26606218e-01,\n",
       "        -1.01090581e+00,  -1.02524629e+00,  -1.50121108e+00,\n",
       "        -3.01758747e-02,  -1.97180197e+00,  -1.61664031e+00,\n",
       "        -2.49412052e-01,  -1.28421672e+00,  -5.78787383e-01,\n",
       "        -5.91945077e-01,  -4.26664516e-01,  -1.26810591e+00,\n",
       "        -2.66448695e-01,  -1.15931845e+00,  -9.73373783e-01,\n",
       "        -1.75495217e+00,  -6.23229082e-01,  -1.13934968e+00,\n",
       "        -4.95923235e-01,  -7.89415567e-01,  -8.81537708e-01,\n",
       "        -1.23311686e+00,  -1.08748439e-01,  -2.03674865e-01,\n",
       "        -8.67875575e-01,  -1.42269098e+00,  -1.27733747e+00,\n",
       "        -1.74727830e+00,  -1.84395846e-01,  -6.39287682e-01,\n",
       "        -1.13373853e+00,  -1.62220237e-01,  -7.65366785e-01,\n",
       "        -3.80555140e-01,  -8.93739863e-01,   7.35017695e-02,\n",
       "        -1.09845006e-01,  -2.33630944e-01,  -1.32014153e+00,\n",
       "        -3.81322733e-01,  -1.25387801e+00,  -8.96020186e-02,\n",
       "        -1.32452256e+00,  -3.72308727e-03,  -3.78179099e-01,\n",
       "        -1.13697266e+00,  -1.20591798e+00,  -5.40933501e-02,\n",
       "        -1.33430286e-01,  -8.62393462e-01,  -1.39523598e+00,\n",
       "        -1.58903902e+00,  -1.92400282e-01,   2.90345289e-01,\n",
       "        -4.27668614e-01,  -3.09751078e-01,  -7.92991889e-01,\n",
       "        -1.13611743e+00,  -6.85339292e-01,  -1.48581781e+00,\n",
       "        -4.36578445e-01,  -8.95655238e-01,  -1.21008599e+00,\n",
       "        -3.63137341e-01,  -2.17194310e-01,  -3.62840144e-01,\n",
       "        -8.62805067e-02,  -1.09173266e+00,  -1.11667505e+00,\n",
       "         1.21699387e-01,  -7.38431443e-01,  -9.09878787e-01,\n",
       "        -4.37099551e-01,  -6.42971794e-01,  -9.92848671e-01,\n",
       "        -4.86167727e-01,  -8.65863339e-01,   3.62514785e-02,\n",
       "        -4.26943251e-01,  -1.57163286e+00,  -1.30277077e+00,\n",
       "        -1.29164739e+00,  -9.52567385e-01,  -3.01870162e-01,\n",
       "        -1.00619376e+00,  -1.50972716e+00,  -1.28284063e+00,\n",
       "        -5.89529457e-01,  -9.19921607e-01,  -2.27395219e-01,\n",
       "        -2.28693018e-01,  -5.92424475e-01,  -1.74613525e+00,\n",
       "        -1.49140113e+00,  -5.95997462e-01,  -5.60802354e-01,\n",
       "        -1.02157748e+00,  -2.91180667e-01,  -4.60498485e-01,\n",
       "        -6.43150222e-01,  -5.32491601e-01,   2.47092723e-01,\n",
       "        -1.39877347e+00,  -4.53078411e-02,   9.75485862e-04,\n",
       "        -3.02336794e-01,  -6.93108157e-02,  -1.18378837e+00,\n",
       "        -8.14043526e-01,  -1.04154909e+00,   4.47525559e-01,\n",
       "        -1.13982608e+00,  -7.19409738e-01,  -1.53572553e+00,\n",
       "        -1.01143698e+00,  -7.46661010e-01,  -4.39172375e-01,\n",
       "        -1.38503642e+00,  -9.94660903e-01,   1.14870051e-01,\n",
       "         3.13872962e-03,  -8.24185961e-01,  -6.65074079e-01,\n",
       "        -8.73364810e-01,  -1.10897531e+00,  -2.77733612e-01,\n",
       "        -1.54039661e+00,  -9.32977700e-02,  -1.93765812e-01,\n",
       "        -8.50222539e-01,   1.63937800e-02,  -1.03892433e+00,\n",
       "        -6.10898347e-01,  -5.71637716e-01,  -1.29500633e+00,\n",
       "        -5.79289799e-01,  -1.39653560e+00,  -4.21536403e-01,\n",
       "        -5.18557427e-01,  -9.90331548e-01,  -9.17666657e-01,\n",
       "        -7.14148716e-01,  -1.51834429e+00,  -1.29500399e+00,\n",
       "        -6.57864009e-01,  -1.02066495e+00,  -8.14003392e-02,\n",
       "        -1.39792914e+00,  -9.98980581e-01,  -7.01568350e-01,\n",
       "        -7.22666171e-01,   6.12517718e-02,  -1.99442781e-01,\n",
       "        -9.35538972e-01,  -3.87415092e-01,  -5.87696467e-01,\n",
       "        -8.51264601e-01,  -5.51966159e-01,  -9.10991071e-01,\n",
       "        -1.14523688e+00,  -1.04042587e+00,  -1.09353339e+00,\n",
       "        -8.74015913e-01,  -1.13434221e+00,  -6.75173609e-01,\n",
       "        -5.73787680e-01,  -3.85864726e-01,  -1.42260213e-01,\n",
       "        -8.12215638e-01,  -1.21207367e+00,  -6.39628570e-01,\n",
       "        -1.31020432e+00,  -7.28328917e-01,  -4.15576447e-01,\n",
       "        -1.79172955e-01,  -6.77928292e-01,  -1.19731395e+00,\n",
       "        -1.08887500e+00,  -3.29984921e-01,  -1.06990575e+00,\n",
       "        -2.44350898e-01,  -1.46813873e-01,  -3.28946065e-01,\n",
       "         7.98073190e-02,  -1.05176963e+00,  -1.19268293e-01,\n",
       "        -8.69917115e-01,  -1.68741201e-01,  -6.35157291e-01,\n",
       "        -5.60869585e-01,  -8.20779101e-01,  -3.89976669e-01,\n",
       "        -3.27189298e-01,  -3.88437256e-01,  -1.52706919e+00,\n",
       "        -3.26029679e-01,  -3.31939156e-01,  -1.21579181e+00,\n",
       "        -6.71535556e-01,  -3.45809130e-01,  -3.24099182e-01,\n",
       "        -2.98026923e-01,  -7.93724727e-01,  -5.66458936e-01,\n",
       "        -4.69437965e-01,  -2.91940582e-01,  -6.57796935e-01,\n",
       "        -1.22347667e+00,  -2.79941959e-01,  -7.09189639e-01,\n",
       "        -6.32376014e-01,  -1.30926236e+00,  -8.52205398e-01,\n",
       "        -7.68039491e-01,  -6.32033958e-01,  -7.38486104e-01,\n",
       "        -7.89081490e-01,  -1.04949596e+00,  -2.95770571e-01,\n",
       "        -1.26885278e+00,  -1.17397268e+00,  -1.49804888e+00,\n",
       "        -6.94635569e-01,  -1.24012970e+00,  -1.22627784e+00,\n",
       "        -1.30934049e+00,  -7.91073750e-01,  -9.44314663e-01,\n",
       "         1.76164217e-01,  -3.89177361e-01,  -5.34273770e-01,\n",
       "        -1.33880925e+00,  -5.09343819e-01,  -8.62336754e-01,\n",
       "        -4.79523918e-02,  -1.06137246e+00,  -5.95133256e-01,\n",
       "        -4.54664596e-01,  -1.43778393e+00,  -2.97192373e-01,\n",
       "        -3.63220575e-01,  -8.42610896e-01,  -7.68000771e-01,\n",
       "        -9.58380769e-01,  -1.02102151e+00,  -3.10788694e-01,\n",
       "        -1.34068453e+00,  -5.22921817e-01,  -1.33511782e+00,\n",
       "        -4.46132886e-01,  -1.09667126e+00,   9.44186538e-02,\n",
       "        -1.47831242e+00,  -4.96491148e-01,  -1.26192840e+00,\n",
       "         4.84295923e-02,  -9.38153394e-01,  -7.61053835e-01,\n",
       "        -1.47142242e+00,  -8.10179049e-01,  -5.56215166e-01,\n",
       "        -1.04930958e+00,  -3.42465108e-01,  -1.14662910e+00,\n",
       "        -5.74385837e-01,  -1.34053688e+00,  -7.39975733e-01,\n",
       "        -1.34441388e+00,  -6.94728940e-02,  -7.69921165e-01,\n",
       "        -1.22780080e+00,  -1.32966383e+00,  -1.76247676e-01,\n",
       "        -7.05085156e-01,  -9.61295475e-01,  -1.38163174e-01,\n",
       "        -5.86665462e-01,  -6.55438681e-01,  -2.50920429e-02,\n",
       "        -5.15684459e-01])"
      ]
     },
     "execution_count": 161,
     "metadata": {},
     "output_type": "execute_result"
    }
   ],
   "source": [
    "np.dot(xmat.T, w.reshape((2, )))"
   ]
  },
  {
   "cell_type": "code",
   "execution_count": 160,
   "metadata": {
    "collapsed": false
   },
   "outputs": [
    {
     "data": {
      "text/plain": [
       "(2,)"
      ]
     },
     "execution_count": 160,
     "metadata": {},
     "output_type": "execute_result"
    }
   ],
   "source": [
    "xmat[:, 1].shape"
   ]
  },
  {
   "cell_type": "code",
   "execution_count": null,
   "metadata": {
    "collapsed": true
   },
   "outputs": [],
   "source": []
  }
 ],
 "metadata": {
  "kernelspec": {
   "display_name": "Python 3",
   "language": "python",
   "name": "python3"
  },
  "language_info": {
   "codemirror_mode": {
    "name": "ipython",
    "version": 3
   },
   "file_extension": ".py",
   "mimetype": "text/x-python",
   "name": "python",
   "nbconvert_exporter": "python",
   "pygments_lexer": "ipython3",
   "version": "3.5.4"
  }
 },
 "nbformat": 4,
 "nbformat_minor": 0
}
