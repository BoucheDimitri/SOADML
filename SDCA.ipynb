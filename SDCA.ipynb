{
 "cells": [
  {
   "cell_type": "code",
   "execution_count": 16,
   "metadata": {
    "collapsed": true
   },
   "outputs": [],
   "source": [
    "import numpy as np\n",
    "import matplotlib.pyplot as plt"
   ]
  },
  {
   "cell_type": "code",
   "execution_count": 19,
   "metadata": {
    "collapsed": true
   },
   "outputs": [],
   "source": [
    "def gaussian_data(mus, covmats, n):\n",
    "    g1 = np.random.multivariate_normal(mus[0], covmats[0], int(n / 2))\n",
    "    y1 = np.ones((int(n / 2), 1))\n",
    "    xy1 = np.concatenate((g1, y1), axis=1)\n",
    "    g2 = np.random.multivariate_normal(mus[1], covmats[1], int((n + 1) / 2))\n",
    "    y2 = - np.ones((int((n + 1) / 2), 1))\n",
    "    xy2 = np.concatenate((g2, y2), axis=1)\n",
    "    xy = np.concatenate((xy1, xy2), axis=0)\n",
    "    np.random.shuffle(xy)\n",
    "    return xy                      "
   ]
  },
  {
   "cell_type": "code",
   "execution_count": 40,
   "metadata": {
    "collapsed": false
   },
   "outputs": [
    {
     "data": {
      "image/png": "[encoded data removed]",
      "text/plain": [
       "<matplotlib.figure.Figure at 0x1648d1b4fd0>"
      ]
     },
     "metadata": {},
     "output_type": "display_data"
    }
   ],
   "source": [
    "xy = gaussian_data(([1, 1], [3, 3]), (np.eye(2), np.eye(2)), 1000)\n",
    "positive = xy[xy[:, 2] == 1]\n",
    "negative = xy[xy[:, 2] == -1]\n",
    "plt.scatter(positive[:, 0], positive[:, 1])\n",
    "plt.scatter(negative[:, 0], negative[:, 1])\n",
    "plt.show()\n",
    "xmat = xy[:, :2].T\n",
    "y = xy[:, 2:].T"
   ]
  },
  {
   "cell_type": "markdown",
   "metadata": {},
   "source": [
    "## LossFunc class\n",
    "We create here an almost empty class model for losses functions. The objective is to be able to change loss function easily"
   ]
  },
  {
   "cell_type": "code",
   "execution_count": 103,
   "metadata": {
    "collapsed": true
   },
   "outputs": [],
   "source": [
    "class LossFunc:\n",
    "    \n",
    "    def __init__(self):\n",
    "        self.primal = None\n",
    "        self.dual = None\n",
    "        self.sdca_update = None\n",
    "        self.sgd_update = None\n",
    "    \n",
    "    def set_primal(self, func):\n",
    "        self.primal = func\n",
    "    \n",
    "    def set_dual(self, func):\n",
    "        self.dual = func\n",
    "    \n",
    "    def set_sdca_update(self, func):\n",
    "        self.sdca_update = func\n",
    "    \n",
    "    def set_sgd_update(self, func):\n",
    "        self.sgd_update = func"
   ]
  },
  {
   "cell_type": "markdown",
   "metadata": {},
   "source": [
    "We define the hinge loss using the class framework defined above"
   ]
  },
  {
   "cell_type": "code",
   "execution_count": 104,
   "metadata": {
    "collapsed": false
   },
   "outputs": [],
   "source": [
    "def vector_hinge_loss(a, y):\n",
    "    return np.maximum(0, 1 - y * a)\n",
    "\n",
    "def vector_hinge_dual(alpha, y):\n",
    "    prod = alpha * y\n",
    "    prod[prod > 0] = np.inf\n",
    "    prod[prod < -1] = np.inf\n",
    "    return prod\n",
    "\n",
    "def hinge_delta_alpha(w, xi, yi, alphai, lamb):\n",
    "    n = xi.shape[0]\n",
    "    q = lamb * n * (1 - np.dot(xi.T, w) * yi) / np.power(np.linalg.norm(xi), 2)\n",
    "    q += alphai\n",
    "    return max(-1, min(1, q)) - alpha\n",
    "    \n",
    "hinge = LossFunc()\n",
    "hinge.set_primal(vector_hinge_loss)\n",
    "hinge.set_dual(vector_hinge_dual)\n",
    "hinge.set_sdca_update(hinge_delta_alpha)"
   ]
  },
  {
   "cell_type": "markdown",
   "metadata": {},
   "source": [
    "## Primal and dual of cumulative regularized loss\n",
    "We define in this section:\n",
    "1. Some intermediaries functions\n",
    "1. The primal dual correspondance function (associating w(alpha) to alpha)\n",
    "1. The primal and dual cumulative loss functions\n",
    "1. The duality gap function"
   ]
  },
  {
   "cell_type": "code",
   "execution_count": 89,
   "metadata": {
    "collapsed": true
   },
   "outputs": [],
   "source": [
    "def w_dot_xmat(w, xmat):\n",
    "    return np.dot(np.transpose(w), xmat)"
   ]
  },
  {
   "cell_type": "code",
   "execution_count": 90,
   "metadata": {
    "collapsed": true
   },
   "outputs": [],
   "source": [
    "def cum_loss(w, xmat, y, lamb, lossfunc=hinge):\n",
    "    a = w_dot_xmat(w, xmat) \n",
    "    cumloss = np.mean(lossfunc.primal(a, y))\n",
    "    reg = (lamb / 2) * np.power(np.linalg.norm(w), 2)\n",
    "    return cumloss + reg"
   ]
  },
  {
   "cell_type": "code",
   "execution_count": 91,
   "metadata": {
    "collapsed": true
   },
   "outputs": [],
   "source": [
    "def alpha_to_w(alpha, xmat, lamb):\n",
    "    n = xmat.shape[1]\n",
    "    return (1 / (n * lamb)) * np.dot(xmat, alpha.T)"
   ]
  },
  {
   "cell_type": "code",
   "execution_count": 98,
   "metadata": {
    "collapsed": true
   },
   "outputs": [],
   "source": [
    "def cum_loss_dual(alpha, xmat, y, lamb, lossfunc=hinge):\n",
    "    cumlossdual = np.mean(- lossfunc.dual(- alpha, y))\n",
    "    w = alpha_to_w(alpha, xmat, lamb)\n",
    "    reg = (lamb / 2) * np.power(np.linalg.norm(w), 2)\n",
    "    return cumlossdual + reg"
   ]
  },
  {
   "cell_type": "code",
   "execution_count": 102,
   "metadata": {
    "collapsed": false
   },
   "outputs": [
    {
     "data": {
      "text/plain": [
       "-inf"
      ]
     },
     "execution_count": 102,
     "metadata": {},
     "output_type": "execute_result"
    }
   ],
   "source": [
    "# Test for those few first functions\n",
    "w_test = np.array([1, 1])\n",
    "w_test = w_test.reshape((2, 1))\n",
    "a = w_dot_xmat(w_test, xmat)\n",
    "h = vector_hinge_loss(a, y)\n",
    "cumloss = cum_loss(w_test, xmat, y, 1)\n",
    "n = y.shape[1]\n",
    "alpha_test = 0.5 * np.ones((1, n))\n",
    "cum_loss_dual(alpha_test, xmat, y, 1)"
   ]
  },
  {
   "cell_type": "code",
   "execution_count": 100,
   "metadata": {
    "collapsed": true
   },
   "outputs": [],
   "source": [
    "def duality_gap(alpha, xmat, y, lamb, lossfunc=hinge):\n",
    "    w = alpha_to_w(alpha, xmat, lamb)\n",
    "    p = cum_loss(w, xmat, y, lamb, lossfunc)\n",
    "    d = cum_loss_dual(alpha, xmat, y, lamb, lossfunc)\n",
    "    return p - d"
   ]
  },
  {
   "cell_type": "markdown",
   "metadata": {},
   "source": [
    "## Modified SGD for initialization"
   ]
  },
  {
   "cell_type": "markdown",
   "metadata": {},
   "source": [
    "After optimization, we find that the optimal $\\alpha_t^{\\star}$ is given by : \n",
    "$$ \\alpha_t^{\\star} = \\frac{\\lambda t}{||x_t||^2} (y_t - x_t^T w^{(t-1)})$$"
   ]
  },
  {
   "cell_type": "code",
   "execution_count": 105,
   "metadata": {
    "collapsed": true
   },
   "outputs": [],
   "source": [
    "def hinge_sgd_update(w, xt, yt, lamb, t):\n",
    "    wdotx = np.dot(xt.T, w)\n",
    "    xsqrnorm = np.power(np.linalg.norm(xt), 2)\n",
    "    return ((lamb * t) / xsqrnorm) * (yt - wdotx)\n",
    "\n",
    "hinge.set_sgd_update(hinge_sgd_update)"
   ]
  },
  {
   "cell_type": "code",
   "execution_count": 112,
   "metadata": {
    "collapsed": true
   },
   "outputs": [],
   "source": [
    "def modified_sgd(xmat, y, lamb, lossfunc=hinge):\n",
    "    d = xmat.shape[0]\n",
    "    n = xmat.shape[1]\n",
    "    alpha = np.zeros((1, n))\n",
    "    w = np.zeros((d, 1))\n",
    "    for t in range(0, n):\n",
    "        alpha[:, t] = lossfunc.sgd_update(w, xmat[:, t], y[0, t], lamb, t)\n",
    "        w = alpha_to_w(alpha[:, :t + 1], xmat[:, :t + 1], lamb)\n",
    "    return alpha       "
   ]
  },
  {
   "cell_type": "code",
   "execution_count": 114,
   "metadata": {
    "collapsed": false
   },
   "outputs": [
    {
     "data": {
      "text/plain": [
       "array([[  0.00000000e+00,  -5.19613592e-02,   3.24225186e-01,\n",
       "          1.66216357e-01,  -2.62007651e-01,  -5.69843640e-02,\n",
       "          9.42718431e-03,   2.44567137e+00,   7.58056705e-01,\n",
       "         -1.07168006e+00,   1.12787457e+00,   5.80847941e+00,\n",
       "         -1.68827701e+00,  -2.58788514e-02,  -4.52936805e-01,\n",
       "          1.85334597e+00,   1.31884049e+00,  -3.74187022e+00,\n",
       "          4.18943840e+00,  -2.07368714e+00,   9.83395945e+00,\n",
       "          1.38418081e+00,  -3.75473647e+00,  -2.26382750e+00,\n",
       "          2.42616155e+01,   6.38973703e+00,  -8.79255049e+00,\n",
       "         -8.03699804e-02,   4.08763346e+01,  -4.37858734e+00,\n",
       "          3.88493552e+01,  -6.88116065e+00,   6.83014226e+01,\n",
       "          1.28630982e+01,  -1.64294112e+01,  -8.19570680e+00,\n",
       "          1.30621898e+01,  -5.16004108e+00,   7.19572420e+00,\n",
       "          2.50816145e+00,   8.83420926e+01,   8.69916869e+00,\n",
       "          3.66732589e+03,  -1.52459216e+02,   4.32036622e+00,\n",
       "         -4.75667607e+00,   4.00466218e+00,  -6.18645005e+00,\n",
       "         -3.00638518e+00,   7.01976511e-01,   3.17851965e+00,\n",
       "         -1.84081110e+00,  -2.10902007e+00,   2.24351373e+01,\n",
       "         -2.25730286e+00,  -6.52098203e+00,   2.20467694e+03,\n",
       "          2.04067679e+02,  -2.40344877e+01,   9.66485446e+00,\n",
       "          1.21182130e+02,  -6.31629776e+00,   1.05671664e+00,\n",
       "          1.77568012e+00,   2.94089017e-01,   1.18781433e+01,\n",
       "         -3.76369104e+00,  -6.44609304e+00,   2.55642492e+00,\n",
       "          1.04742456e+02,  -1.81260167e+01,  -1.27701920e+01,\n",
       "          2.56109128e+01,  -3.60008027e+00,   1.20880522e+02,\n",
       "         -2.58073643e+01,   2.10212364e+01,   3.38395101e+01,\n",
       "          1.87381718e+01,  -1.89279817e+01,   1.53658341e-01,\n",
       "          3.83962416e-02,   1.83972194e+01,  -8.81797982e-01,\n",
       "         -4.94965173e-01,   9.83969163e-01,   2.87109324e+01,\n",
       "         -2.22365544e+01,  -2.65275042e+00,   3.11951051e-02,\n",
       "          6.39972071e+01,  -1.86236715e+01,   3.53709583e-01,\n",
       "         -5.10123422e-01,   3.75014528e+01,  -2.00541064e+01,\n",
       "          8.43479916e-01,  -1.22390062e+00,  -1.32531971e+00,\n",
       "          7.02971546e-01,   5.52744281e+01,  -1.45539434e+01,\n",
       "         -4.52040190e-01,   4.72696345e-02,   1.99800841e+00,\n",
       "          1.66247299e+01,  -1.82989353e+01,   2.92261024e+01,\n",
       "          8.89266809e+01,  -2.64203480e+01,   5.68957882e+02,\n",
       "         -4.69613016e+01,   2.31672928e+01,  -1.25677796e+01,\n",
       "          4.66684828e+01,   2.41803827e+02,   4.40905787e+01,\n",
       "         -2.21953399e+01,   3.70836408e+01,  -2.19927051e+01,\n",
       "         -2.39423285e+00,   4.78340035e+00,   1.59745847e+01,\n",
       "         -4.01913206e+01,   1.48380607e+02,  -3.63575137e+01,\n",
       "          2.16187323e+00,  -2.36159893e-01,   1.35751864e+02,\n",
       "         -2.60358863e+01,  -1.66445608e+01,  -1.74065858e+00,\n",
       "          1.56686888e+00,   1.96035150e+02,  -2.11765600e+00,\n",
       "         -2.39849830e+01,  -3.87214154e+00,   7.07739815e+01,\n",
       "         -4.04240620e+01,  -5.67959895e+00,  -8.39997199e+00,\n",
       "          1.03343618e+01,   7.30412070e+01,   1.25216646e+02,\n",
       "         -3.97653773e+01,  -2.69334152e+00,  -1.80144782e+00,\n",
       "          8.08336554e+00,   1.64225255e+01,  -1.95604394e+01,\n",
       "          2.65381023e+01,  -1.79066529e+01,   5.48818567e+01,\n",
       "          1.49830658e+01,  -3.42209123e+01,   3.00425711e+00,\n",
       "         -2.94670767e+00,  -4.74889160e+00,   1.83338676e+00,\n",
       "          8.60831920e+00,   1.08117241e+02,  -1.54641297e+01,\n",
       "          3.98566441e+00,   3.77613754e+00,   9.04412924e+02,\n",
       "          5.69682101e+01,   6.70066816e+01,  -8.97362597e-01,\n",
       "         -1.75008426e+01,   8.44361497e+01,   6.02080273e+01,\n",
       "         -5.76206136e+01,   2.37895795e+02,  -5.35433497e+01,\n",
       "         -3.93904153e-01,  -1.98421640e-01,   5.99821801e+01,\n",
       "          2.19529802e+02,  -1.56399180e+01,   1.08425933e+00,\n",
       "          7.65910439e+01,  -1.13209388e+01,   3.32222714e+01,\n",
       "         -5.60552166e+01,   9.47416607e+00,  -6.40904200e+00,\n",
       "          5.48002034e+02,  -5.55924341e+01,  -1.95561961e+01,\n",
       "          2.38685209e+01,  -3.07425494e+01,   1.65400074e+02,\n",
       "         -4.42692442e+01,   4.97696186e+01,  -2.37499518e+01,\n",
       "          2.55949277e+01,  -2.29212930e+01,   1.20056381e+00,\n",
       "         -1.29812072e+00,   1.32452038e+02,   5.48276442e+03,\n",
       "         -6.98757169e+01,   1.01776690e+02,  -1.50805710e+02,\n",
       "         -2.49811006e+02,  -7.85655171e+00,   2.43220174e+01,\n",
       "         -7.04906877e+00,   5.27214694e+01,   1.22959514e+01,\n",
       "          7.43615941e+01,   6.10384165e+02,  -2.27000481e+01,\n",
       "         -2.26294405e+01,  -2.29163403e+01,   3.20488375e+01,\n",
       "         -1.13606253e-01,   4.17237671e+00,   4.19806679e+01,\n",
       "         -1.75018770e+01,   1.12679747e+02,  -4.32604365e+01,\n",
       "          6.70217105e+01,   7.53222985e+00,   1.96147520e+02,\n",
       "          4.53999745e+01,   2.88714015e+03,   7.08134309e+02,\n",
       "          1.30125263e+02,   6.17023541e+02,  -2.09361926e+02,\n",
       "          5.83424165e+01,   1.42968177e+02,  -5.81006972e+01,\n",
       "          2.00377421e+02,  -6.00012147e+01,   3.80846590e+01,\n",
       "         -8.50462792e+00,  -3.25130348e+00,   2.91516473e+00,\n",
       "          8.14249290e+01,  -3.75021967e+00,   2.12317703e+02,\n",
       "         -6.55449544e+01,   7.45853223e+01,  -3.32127243e+01,\n",
       "         -3.88190514e+01,   3.57186732e+00,   5.95473742e+03,\n",
       "          1.04377950e+00,  -1.57932550e+02,  -2.55469953e+01,\n",
       "         -3.10739649e+01,   1.34138058e+02,  -4.92167323e-01,\n",
       "         -2.20440012e+02,   8.09905242e+01,   2.89670418e+02,\n",
       "         -1.02878957e+02,   8.69554498e+01,   6.82001520e+02,\n",
       "         -5.24462385e+01,  -2.24574256e+01,   3.34765315e+01,\n",
       "          4.54045188e+01,  -1.02535988e+02,   3.37563962e+00,\n",
       "          7.63870643e+02,  -1.07223632e+02,   1.25748105e+02,\n",
       "          5.28006932e+01,  -7.42240099e+01,   1.72681733e+02,\n",
       "         -3.90105198e+01,  -6.22692247e+00,   6.80950207e+01,\n",
       "          4.46523093e+01,  -6.82308322e+01,  -2.80478160e+01,\n",
       "          1.72874031e+02,   1.66589743e+02,   5.80362830e+00,\n",
       "          3.27849283e+03,   6.21673157e+01,  -3.41914543e+02,\n",
       "          5.23521640e+01,   1.12462464e+02,   3.18711054e+02,\n",
       "         -7.33853324e+01,   1.12007173e+02,  -3.67917181e+01,\n",
       "         -2.53495787e+01,   4.40768063e+02,  -9.84071802e+01,\n",
       "         -2.17397090e+01,   2.66705341e+02,   8.58912210e+00,\n",
       "         -1.29928106e+01,   1.85040073e+01,   4.15539037e+01,\n",
       "          1.13582936e+01,  -1.75029291e+01,   5.22866411e+00,\n",
       "         -8.21768164e+01,   3.58754040e+01,   2.91618674e+01,\n",
       "         -8.48027726e+00,   8.98864537e+01,  -6.48150508e+01,\n",
       "          2.01098614e+02,   4.40397325e-01,  -1.02374002e+02,\n",
       "          2.07285270e+00,   1.56127105e+04,  -6.73837912e+02,\n",
       "         -1.98250459e+02,  -7.62879815e+01,   6.06477594e+01,\n",
       "          6.04162585e+02,  -5.06901851e+01,  -1.13648266e+01,\n",
       "         -5.07176587e+02,   5.13395333e+01,   3.46046297e+01,\n",
       "          1.37156270e+01,  -3.53647834e+01,  -1.70003079e+01,\n",
       "         -1.54479482e+01,   8.22510223e+00,   6.11519927e+02,\n",
       "         -7.07266129e+01,   9.02050248e+01,  -1.42957069e+01,\n",
       "          2.27029892e+00,   3.82457019e+02,   1.60239488e+02,\n",
       "         -8.51432247e+01,   1.92239092e+02,   9.95988812e+01,\n",
       "          2.88860909e+01,  -5.33599731e+01,   2.63302594e+01,\n",
       "         -5.81434337e+01,   5.21530013e+00,  -4.16632251e+00,\n",
       "          4.27716528e+00,   1.38137934e+02,   1.38056781e+02,\n",
       "         -3.03514734e+01,   4.60186929e+02,   9.90740764e-01,\n",
       "         -1.86621864e+01,   6.32192708e+01,  -2.42292227e+01,\n",
       "         -2.11035008e+02,   8.65361213e+01,  -7.69558964e+01,\n",
       "          1.52561140e+01,   2.24656690e+01,   1.62190221e+02,\n",
       "         -3.53507604e+01,  -5.72795347e+01,   4.23297209e+02,\n",
       "          6.85353865e+02,  -1.12473596e+02,   3.75049979e+01,\n",
       "          1.12850977e+02,  -6.87944724e+01,  -1.07683444e+01,\n",
       "         -3.43483429e+00,   1.19139630e+01,  -9.78407694e+01,\n",
       "          6.86411739e+01,  -4.00423890e+01,   5.11981286e+00,\n",
       "          4.85238708e+02,  -1.22957267e+02,  -3.11290929e+01,\n",
       "          1.84516263e+02,  -3.15439832e+01,  -1.38364655e+01,\n",
       "          2.22892407e+02,   1.64127225e+02,  -5.55693453e+01,\n",
       "          1.19912903e+02,  -1.00066638e+02,   2.85520977e+01,\n",
       "          8.69017477e+00,  -6.39172403e+00,   2.71411247e+00,\n",
       "          3.25329163e+03,   8.19300207e+02,   9.47413975e+01,\n",
       "         -8.12717688e+01,  -9.93187923e+00,  -3.06939108e+01,\n",
       "         -3.62370720e-01,   2.81190491e+01,  -2.00901608e+01,\n",
       "          1.23463390e+01,  -2.24895916e+00,   1.57839635e+01,\n",
       "         -5.48735495e+01,   3.00597022e+01,  -1.16626629e+01,\n",
       "          9.40429060e+00,   7.84889940e+01,   1.89548839e+02,\n",
       "         -1.06168068e+01,  -8.35861649e+00,   1.07957541e+00,\n",
       "          1.31759081e+01,   4.40553461e+02,   7.44602417e+01,\n",
       "          3.12204262e+02,   6.72168385e+02,  -1.29825947e+02,\n",
       "          5.50479271e+00,  -7.67149600e+01,   2.68043274e+02,\n",
       "          2.51498891e+02,  -1.12852670e+02,  -7.84658397e+00,\n",
       "         -6.11167003e+01,   4.14145760e+00,  -3.56574443e+00,\n",
       "          2.11798908e+02,   7.72019351e+01,   5.91999013e+01,\n",
       "         -1.07273107e+02,   1.82722919e+02,  -1.25550008e+01,\n",
       "         -3.88758071e+01,   4.28658523e+01,   2.87675907e+02,\n",
       "          6.27994920e+01,  -7.72008121e+01,  -1.35772873e+01,\n",
       "          3.27344576e+01,  -1.68630801e+01,   2.69479608e+02,\n",
       "          2.39978296e+02,   2.30959371e+02,  -4.80130160e+00,\n",
       "         -6.97123318e+01,   3.25864979e+00,  -7.79106386e+00,\n",
       "          3.68938607e+00,  -2.44378142e+00,   5.93347462e+00,\n",
       "          3.11867773e+00,  -3.73993240e+00,  -8.83968620e+00,\n",
       "          4.27815031e+02,   5.26672929e+02,  -5.45254739e+01,\n",
       "         -3.84479553e+00,  -5.24446835e+00,   4.39171435e+02,\n",
       "          2.37764727e+02,  -1.06697038e+02,  -1.38203758e+02,\n",
       "          5.14307244e+02,  -6.03402531e+01,   1.91183537e+01,\n",
       "          1.65042105e+02,  -5.36356292e+01,  -2.66325854e+01,\n",
       "          7.33173435e+01,  -1.02862643e+02,   5.81064780e+01,\n",
       "          2.51436365e+02,  -5.79724324e+01,   1.89962076e+02,\n",
       "         -7.51709568e+01,   3.13788024e+00,  -2.66125196e+01,\n",
       "          3.36202035e+02,  -1.04628319e+02,   8.39478682e+01,\n",
       "          1.79344514e+02,  -8.30989729e+01,   6.82943493e+01,\n",
       "          7.06897955e+01,  -6.46353902e+01,   2.14389644e+01,\n",
       "         -2.63157142e+01,   1.50379766e+00,   2.44762893e+01,\n",
       "          6.97579763e+02,  -1.21338074e+02,  -8.99202315e+01,\n",
       "         -1.03826302e+02,   2.74022653e+00,   1.18600401e+02,\n",
       "         -2.95988838e+01,  -2.39708506e+01,   5.35155947e+02,\n",
       "          5.60225259e+01,  -5.22550263e+01,   6.45221913e+00,\n",
       "         -5.91886447e+00,  -1.42001804e+01,  -2.34004484e+01,\n",
       "          8.84766880e+02,  -2.80561387e+02,   2.01006773e+01,\n",
       "          3.34846639e+02,  -1.56289491e+02,   6.27391689e+02,\n",
       "         -1.37914971e+02,   5.44984622e+02,   1.60174419e+02,\n",
       "         -1.13189034e+02,  -1.01650198e+01,   2.10307388e+02,\n",
       "         -6.60494601e+01,   1.39040900e+03,   5.51146773e+02,\n",
       "         -3.52598809e+01,   2.37125278e+02,  -1.23780678e+02,\n",
       "          4.42846613e+02,   1.61437965e+02,  -1.58498692e+02,\n",
       "          1.75363760e+02,  -1.73559632e+01,  -7.23246134e+01,\n",
       "          4.65626540e+02,  -7.07339660e+01,   9.20076274e+01,\n",
       "         -9.55692977e+01,  -9.96448952e+01,   1.12353769e+02,\n",
       "          5.26017771e+01,  -7.45555261e+01,   8.00721768e+02,\n",
       "          3.76515652e+02,   2.93356175e+03,   7.48530939e+02,\n",
       "          4.08840493e+02,  -3.52717687e+01,   6.24010449e+02,\n",
       "         -1.33225518e+02,  -1.52302415e+01,   6.42862141e-01,\n",
       "          1.21549913e+02,  -8.06653123e+01,   6.56598824e+02,\n",
       "         -1.24917787e+02,   1.43342087e+03,   3.94022360e+02,\n",
       "         -1.68034608e+02,   5.02737248e+02,  -1.35045783e+02,\n",
       "          2.00499215e+01,   1.49136153e+02,  -2.02182917e+02,\n",
       "          2.51121765e+02,  -2.83966472e+01,   8.18811756e+02,\n",
       "         -2.51549229e+02,  -1.19397758e+02,   2.80807425e+00,\n",
       "          1.40582511e+02,   3.50720173e+02,   1.34022905e+03,\n",
       "          2.78142627e+01,   5.34298026e+01,   2.54254379e+02,\n",
       "          2.01355048e+02,  -2.06597085e+02,  -7.06907286e+00,\n",
       "         -8.08849663e+01,   1.69020085e+02,   4.17808432e+02,\n",
       "         -2.08029776e+02,   1.43771246e+03,  -2.34632854e+02,\n",
       "          1.44000762e+01,  -7.18235054e+01,   9.88395262e+02,\n",
       "         -2.62311242e+02,  -1.76130391e+02,   3.84631160e+02,\n",
       "          1.04759433e+02,  -2.13309540e+01,   1.78885479e+02,\n",
       "         -1.28479956e+02,   7.31410306e+00,   2.53504207e+02,\n",
       "         -5.94279241e+01,   9.70663896e+00,   4.33272205e+02,\n",
       "         -6.78456951e+01,   3.39809485e+02,  -8.73234371e+01,\n",
       "          3.50396064e+02,  -1.20166707e+02,  -1.31483764e+00,\n",
       "          1.20783108e+02,   2.28566644e+01,   1.75612562e+02,\n",
       "         -1.14200511e+02,  -3.72552856e+00,   1.04339331e+03,\n",
       "         -2.47007641e+02,   1.01808451e+03,  -2.92589026e+02,\n",
       "         -8.35945295e+01,   2.05405026e+01,   6.53130991e+01,\n",
       "          4.98900680e+02,  -7.34872534e+01,   2.21001734e+02,\n",
       "          1.04646122e+02,   2.17735830e+01,  -9.93088574e+01,\n",
       "         -6.80812339e+00,  -7.80745005e+00,  -1.00498776e+01,\n",
       "         -6.40660407e+00,   3.07665639e+02,  -9.79786105e+01,\n",
       "         -5.20505058e+01,   5.22149339e+00,   4.76400579e+01,\n",
       "          2.36684143e+03,   1.35779782e+03,  -1.45381537e+02,\n",
       "          1.39267124e+02,  -6.34043475e+01,   5.10115933e+02,\n",
       "          5.13065043e+01,   7.48046848e+02,  -1.87334192e+02,\n",
       "          3.16692209e+02,   7.87952395e+01,  -1.03457075e+02,\n",
       "          2.11076286e+03,   5.59595827e+02,  -7.56716138e+01,\n",
       "         -4.58066654e+01,  -1.17978852e+01,  -2.71552149e+01,\n",
       "          7.78271823e+02,  -1.22597746e+02,  -1.03822704e+02,\n",
       "          3.46464495e+01,   8.05632691e-01,   2.51161170e+01,\n",
       "          2.19769758e+02,  -1.40543138e+02,   5.00345712e+02,\n",
       "          3.13177550e+03,   2.17072305e+03,   2.37812357e+02,\n",
       "          1.42458722e+02,   4.96138373e+02,  -1.25663257e+02,\n",
       "          1.75176548e+02,  -5.74138530e+01,   3.35995844e+00,\n",
       "          2.66692559e+02,  -2.37543616e+02,   1.55924251e+02,\n",
       "         -8.10626181e+01,  -1.16043498e+01,   1.27320556e+01,\n",
       "          2.27379166e+02,   6.93939698e+00,  -4.46713265e+01,\n",
       "          1.95748887e+02,  -8.19915429e+01,  -3.75764696e+01,\n",
       "         -5.62746595e+00,   2.82486520e+03,   8.55061526e+01,\n",
       "         -2.20962536e+02,   1.26289262e+03,  -1.73041600e+02,\n",
       "          5.46402698e+02,   9.88378113e+01,  -6.04990448e+01,\n",
       "          5.43596120e+02,  -1.00707079e+02,   2.58453807e+02,\n",
       "         -5.49059278e+01,  -8.06333754e+01,   2.20903488e+01,\n",
       "         -9.07194486e+00,   7.16160238e+02,   1.12179823e+02,\n",
       "          5.45017206e+02,  -4.75594386e+01,   7.07317900e+02,\n",
       "          6.37521076e+01,   5.55414221e+01,   5.58714618e+02,\n",
       "         -1.99360240e+02,   6.99239893e+00,   1.26509219e+02,\n",
       "         -4.35267200e+01,   2.89501965e+02,  -1.28975513e+02,\n",
       "         -1.08763970e+01,   1.23652096e+02,  -4.94535547e+01,\n",
       "          4.21332238e+03,   6.29120994e+00,   3.41447920e+02,\n",
       "          9.18479094e+01,   5.34864142e+01,   9.48668500e+02,\n",
       "         -2.72418364e+02,  -5.90876148e+01,   7.33835787e+01,\n",
       "          1.02398306e+03,  -1.68765671e+02,   1.33223893e+01,\n",
       "          3.19986853e+04,   3.08898278e+02,   1.03173918e+03,\n",
       "         -7.47158065e+02,  -3.36144554e+01,   9.48270213e+02,\n",
       "          1.81965655e+03,   2.41229880e+03,   4.18532872e+02,\n",
       "          7.35524228e+02,   1.89683073e+01,  -9.29136301e+01,\n",
       "         -2.06112279e+02,  -3.28838760e+00,  -1.99984460e+01,\n",
       "          5.96085529e+02,   1.97582669e+01,  -2.11340674e+02,\n",
       "          1.03545172e+02,   8.99835189e+02,  -9.44204635e+01,\n",
       "          1.30060529e+03,  -3.12765083e+02,  -3.80990727e+01,\n",
       "          4.00096184e+00,  -1.19084428e+02,   2.80205690e+02,\n",
       "          9.49812736e+01,   4.73534221e+02,  -3.48654810e+01,\n",
       "         -2.96375125e+01,   1.40131477e+03,  -3.08274194e+02,\n",
       "          8.73907713e+01,   1.34415494e+02,  -7.58036060e+01,\n",
       "          6.83640377e+02,  -2.46768987e+02,   1.57041380e+02,\n",
       "         -4.63861974e+01,   1.91829721e+02,   1.98631136e+02,\n",
       "         -1.68171001e+02,   2.94002319e+02,   2.16701191e+03,\n",
       "          9.93366726e+01,   4.79943098e+01,  -1.10796486e+02,\n",
       "         -7.67484835e+00,   5.13855318e+01,   1.51029364e+00,\n",
       "         -5.90885301e+01,   7.78257603e+00,   1.69348659e+01,\n",
       "         -2.10104392e+01,   5.62198058e+02,   3.06846309e+02,\n",
       "         -1.98675536e+02,   9.41240142e+00,   1.28765937e+01,\n",
       "         -5.80632057e-01,   2.11393620e+02,   1.22082292e+02,\n",
       "         -5.69585884e+01,  -1.00121424e+02,  -2.94772208e+01,\n",
       "          1.57500866e+01,   7.22987021e+00,   1.88372916e+02,\n",
       "          4.07715206e+02,  -1.53871253e+02,   6.50936144e+01,\n",
       "          1.67806016e+03,  -4.39847874e+02,   7.04084236e+02,\n",
       "         -2.68196098e+02,  -1.33519759e+02,  -1.17859884e+02,\n",
       "          3.08427587e+02,  -1.34039687e+02,   1.52100519e+00,\n",
       "          1.41498624e+02,  -6.45165833e+01,  -2.07086407e+01,\n",
       "          3.19269500e+00,   2.53807172e+02,   9.44773686e+03,\n",
       "         -5.48781838e+02,  -8.26984463e+01,  -5.87934952e+01,\n",
       "         -1.36807044e+02,   3.54050691e+02,   1.40703164e+03,\n",
       "         -2.27431813e+02,   4.13525925e+02,   6.76512321e+01,\n",
       "         -1.57937078e+02,   5.27766885e+02,  -1.31379730e+02,\n",
       "         -2.10682275e+01,   2.17336884e+02,   2.18476509e+02,\n",
       "         -1.33361404e+02,  -3.03720068e+01,   4.56561613e+01,\n",
       "         -7.97978649e+01,   5.83031667e+01,   2.12471856e+02,\n",
       "         -1.55371472e+02,   2.94263458e+02,  -1.29040543e+02,\n",
       "          5.18636121e+02,  -8.17997727e+01,  -7.30414852e+01,\n",
       "         -7.47296575e+01,  -2.01991676e+02,   5.92469955e+02,\n",
       "          4.65475080e+02,   3.32946578e+02,  -3.06123356e+02,\n",
       "         -1.06762806e+02,  -1.93470721e+01,   6.71551251e+02,\n",
       "         -2.12542101e+02,   7.54323107e+02,  -2.13061708e+02,\n",
       "         -1.14795744e+01,   4.51173415e+02,   1.20592389e+03,\n",
       "         -3.18248970e+02,  -1.04047639e+02,   8.56871802e+02,\n",
       "         -1.24034001e+02,  -5.08942400e+01,   7.59703431e+01,\n",
       "          2.37081050e+00,   1.02708668e+03,   3.40399395e+02,\n",
       "         -1.72619261e+02,   1.29377435e+01,   2.38184340e+01,\n",
       "          8.73106353e+01,  -2.00277920e+02,   6.96645862e+01,\n",
       "          8.27743028e+01,   1.23339225e+02,   1.73217180e+02,\n",
       "         -1.52607467e+02,  -1.00176669e+02,  -5.70886266e+01,\n",
       "          5.61518337e+02,  -1.81655759e+02,   1.14937168e+03,\n",
       "          1.26805858e+02,  -3.65451295e+02,   3.74054159e+01,\n",
       "         -8.71295871e+01,   2.68918514e+02,   2.95533343e+03,\n",
       "         -4.10620650e+02,   1.05389521e+02,  -7.14031228e+01,\n",
       "          8.58756275e+01,   3.76475429e+02,   5.81354434e+02,\n",
       "         -4.14477868e+02,   1.95890497e+03,   1.45946928e+02,\n",
       "         -8.72967255e+01,   2.17286031e+03,  -2.17143386e+02,\n",
       "         -7.44623182e+01,   5.75820646e+02,  -1.45629042e+02,\n",
       "          1.50287623e+02,  -1.41197878e+02,   6.51757734e+01,\n",
       "          5.33596169e+02,  -1.24517592e+02,  -1.55861671e+02,\n",
       "          1.03561467e+01,  -7.52543488e+01,   1.17433348e+03,\n",
       "         -1.92575093e+02,  -1.35671527e+02,   1.32377332e+02,\n",
       "         -9.94442309e+01,   2.64719426e+00,   2.07692499e+02,\n",
       "         -7.52503077e+01,   1.44040139e+03,  -2.52598388e+02,\n",
       "         -1.38828124e+02,   5.22068740e+03,  -1.02245380e+03,\n",
       "         -4.55603153e+02,  -1.56237148e+02,   5.19732125e+00,\n",
       "         -3.40164766e+00,  -6.74852444e+01,   2.88564935e+01,\n",
       "          4.01958082e+02,  -1.29085853e+02,   2.61626128e+02,\n",
       "         -1.43622544e+02,  -1.48908768e+01,   4.14286964e+02,\n",
       "         -2.06551658e+02,   2.66313193e+02,   8.23942789e+02,\n",
       "          6.84417452e+02,  -2.41614562e+02,  -1.59135165e+01,\n",
       "         -3.62922348e+00,  -7.64697609e+01,   4.86397930e+01,\n",
       "          3.87549126e+02,  -1.59999420e+02,   7.37917547e+00,\n",
       "          1.05581853e+01,  -6.60388433e+01,   3.19068390e-01,\n",
       "          2.88729354e+01,  -2.96634150e+01,   1.53727975e+03,\n",
       "          3.55269297e+03,   1.73790958e+02,   6.08974369e+01,\n",
       "         -2.67606012e+02,  -4.38694939e+01,   6.12972720e+02,\n",
       "         -2.77180433e+02,  -1.25553021e+02,   2.70522752e+02,\n",
       "         -1.13091525e+02,  -3.74435203e+01,   2.64495720e+01,\n",
       "         -3.13154565e-01,  -3.16616570e+01,   6.52433119e+00,\n",
       "          1.46313840e+01,   3.81136132e+02,   5.51881959e+02,\n",
       "          3.98111926e+02,  -1.24057525e+02,   1.44076461e+01,\n",
       "          8.72115034e+02,  -7.35889107e+01,   4.06865023e+01,\n",
       "          3.20713172e+02,  -1.96867151e+02,   3.06712732e+03,\n",
       "          3.87756932e+02,   2.12521978e+02,   9.95513920e+02,\n",
       "         -3.71772025e+02,   4.41080575e+02,  -1.19217774e+02,\n",
       "          1.97300741e+02,  -8.44001532e+01,   9.39090170e+02,\n",
       "         -1.44582633e+02,  -9.54091184e+01,   1.01395586e+03,\n",
       "         -5.02906624e+01,   1.56985454e+01,   4.23534155e+03,\n",
       "         -4.88427949e+02,  -3.61346707e+00,   2.35823398e+02,\n",
       "          2.65687158e+02,  -8.62346858e+01,   2.06190468e+01,\n",
       "         -2.30630058e+02,   3.07640172e+02,  -1.03130683e+02,\n",
       "          3.22416761e+02,  -1.16027422e+02,   3.91685302e+02,\n",
       "         -1.72164992e+02]])"
      ]
     },
     "execution_count": 114,
     "metadata": {},
     "output_type": "execute_result"
    }
   ],
   "source": [
    "alpha_test = modified_sgd(xmat, y, 1)\n",
    "alpha_test"
   ]
  }
 ],
 "metadata": {
  "kernelspec": {
   "display_name": "Python 3",
   "language": "python",
   "name": "python3"
  },
  "language_info": {
   "codemirror_mode": {
    "name": "ipython",
    "version": 3
   },
   "file_extension": ".py",
   "mimetype": "text/x-python",
   "name": "python",
   "nbconvert_exporter": "python",
   "pygments_lexer": "ipython3",
   "version": "3.5.4"
  }
 },
 "nbformat": 4,
 "nbformat_minor": 0
}
